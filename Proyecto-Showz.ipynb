{
 "cells": [
  {
   "cell_type": "markdown",
   "metadata": {},
   "source": [
    "# Proyecto Showz"
   ]
  },
  {
   "cell_type": "markdown",
   "metadata": {},
   "source": [
    "##  Acceda los datos y prepáralos para el análisis"
   ]
  },
  {
   "cell_type": "code",
   "execution_count": 1,
   "metadata": {},
   "outputs": [],
   "source": [
    "# importar librerías\n",
    "import pandas as pd\n",
    "import numpy as np\n",
    "import matplotlib.pyplot as plt\n",
    "import seaborn as sns\n",
    "from scipy import stats"
   ]
  },
  {
   "cell_type": "code",
   "execution_count": 2,
   "metadata": {},
   "outputs": [],
   "source": [
    "# Leemos los conjuntos de datos en varios DataFrames\n",
    "visits = pd.read_csv('/datasets/visits_log_us.csv')\n",
    "orders = pd.read_csv('/datasets/orders_log_us.csv')\n",
    "costs = pd.read_csv('/datasets/costs_us.csv')"
   ]
  },
  {
   "cell_type": "markdown",
   "metadata": {},
   "source": [
    "### DataFrame \"Visits\""
   ]
  },
  {
   "cell_type": "markdown",
   "metadata": {},
   "source": [
    "**Estadística Descriptiva**"
   ]
  },
  {
   "cell_type": "code",
   "execution_count": 3,
   "metadata": {},
   "outputs": [
    {
     "name": "stdout",
     "output_type": "stream",
     "text": [
      "DATAFRAME VISITS\n",
      "    Device               End Ts  Source Id             Start Ts  \\\n",
      "0    touch  2017-12-20 17:38:00          4  2017-12-20 17:20:00   \n",
      "1  desktop  2018-02-19 17:21:00          2  2018-02-19 16:53:00   \n",
      "2    touch  2017-07-01 01:54:00          5  2017-07-01 01:54:00   \n",
      "3  desktop  2018-05-20 11:23:00          9  2018-05-20 10:59:00   \n",
      "4  desktop  2017-12-27 14:06:00          3  2017-12-27 14:06:00   \n",
      "\n",
      "                    Uid  \n",
      "0  16879256277535980062  \n",
      "1    104060357244891740  \n",
      "2   7459035603376831527  \n",
      "3  16174680259334210214  \n",
      "4   9969694820036681168  \n",
      "----------------------------------------------------------------\n",
      "<class 'pandas.core.frame.DataFrame'>\n",
      "RangeIndex: 359400 entries, 0 to 359399\n",
      "Data columns (total 5 columns):\n",
      " #   Column     Non-Null Count   Dtype \n",
      "---  ------     --------------   ----- \n",
      " 0   Device     359400 non-null  object\n",
      " 1   End Ts     359400 non-null  object\n",
      " 2   Source Id  359400 non-null  int64 \n",
      " 3   Start Ts   359400 non-null  object\n",
      " 4   Uid        359400 non-null  uint64\n",
      "dtypes: int64(1), object(3), uint64(1)\n",
      "memory usage: 13.7+ MB\n",
      "None\n",
      "----------------------------------------------------------------\n",
      "           Source Id           Uid\n",
      "count  359400.000000  3.594000e+05\n",
      "mean        3.750515  9.202557e+18\n",
      "std         1.917116  5.298433e+18\n",
      "min         1.000000  1.186350e+13\n",
      "25%         3.000000  4.613407e+18\n",
      "50%         4.000000  9.227413e+18\n",
      "75%         5.000000  1.372824e+19\n",
      "max        10.000000  1.844668e+19\n"
     ]
    }
   ],
   "source": [
    "# Imprimimos la estadística descriptiva del df \"VISITS\"\n",
    "print(\"DATAFRAME VISITS\")\n",
    "print(visits.head())\n",
    "print(\"----------------------------------------------------------------\")\n",
    "print(visits.info())\n",
    "print(\"----------------------------------------------------------------\")\n",
    "print(visits.describe())"
   ]
  },
  {
   "cell_type": "markdown",
   "metadata": {},
   "source": [
    "**Tipos de datos**"
   ]
  },
  {
   "cell_type": "code",
   "execution_count": 4,
   "metadata": {},
   "outputs": [
    {
     "name": "stdout",
     "output_type": "stream",
     "text": [
      "Device       object\n",
      "End Ts       object\n",
      "Source Id     int64\n",
      "Start Ts     object\n",
      "Uid          uint64\n",
      "dtype: object\n"
     ]
    }
   ],
   "source": [
    "# Convierte los datos en los tipos necesarios\n",
    "# Primero inspeccionamos los tipos actuales\n",
    "print(visits.dtypes)"
   ]
  },
  {
   "cell_type": "code",
   "execution_count": 5,
   "metadata": {},
   "outputs": [],
   "source": [
    "# Convertimos las columnas a sus tipos de datos correspondientes\n",
    "visits['Device'] = visits['Device'].astype('string')\n",
    "visits['Start Ts'] = pd.to_datetime(visits['Start Ts'])\n",
    "visits['End Ts'] = pd.to_datetime(visits['End Ts'])\n",
    "visits['Uid'] = visits['Uid'].astype('string')"
   ]
  },
  {
   "cell_type": "code",
   "execution_count": 6,
   "metadata": {},
   "outputs": [
    {
     "name": "stdout",
     "output_type": "stream",
     "text": [
      "Device               string\n",
      "End Ts       datetime64[ns]\n",
      "Source Id             int64\n",
      "Start Ts     datetime64[ns]\n",
      "Uid                  string\n",
      "dtype: object\n"
     ]
    }
   ],
   "source": [
    "# Revisamos que los tipos de datos se hayan cambiado correctamente\n",
    "print(visits.dtypes)"
   ]
  },
  {
   "cell_type": "markdown",
   "metadata": {},
   "source": [
    "**Datos Ausentes**"
   ]
  },
  {
   "cell_type": "code",
   "execution_count": 7,
   "metadata": {},
   "outputs": [
    {
     "name": "stdout",
     "output_type": "stream",
     "text": [
      "Device       0\n",
      "End Ts       0\n",
      "Source Id    0\n",
      "Start Ts     0\n",
      "Uid          0\n",
      "dtype: int64\n"
     ]
    }
   ],
   "source": [
    "# Revisamos y eliminamos duplicados\n",
    "print(visits.isnull().sum())"
   ]
  },
  {
   "cell_type": "markdown",
   "metadata": {},
   "source": [
    "No hay duplicados por lo que podemos comenzar con el análisis"
   ]
  },
  {
   "cell_type": "markdown",
   "metadata": {},
   "source": [
    "### DataFrame \"Orders\""
   ]
  },
  {
   "cell_type": "markdown",
   "metadata": {},
   "source": [
    "**Estadística Descriptiva**"
   ]
  },
  {
   "cell_type": "code",
   "execution_count": 8,
   "metadata": {},
   "outputs": [
    {
     "name": "stdout",
     "output_type": "stream",
     "text": [
      "DATAFRAME ORDERS\n",
      "                Buy Ts  Revenue                   Uid\n",
      "0  2017-06-01 00:10:00    17.00  10329302124590727494\n",
      "1  2017-06-01 00:25:00     0.55  11627257723692907447\n",
      "2  2017-06-01 00:27:00     0.37  17903680561304213844\n",
      "3  2017-06-01 00:29:00     0.55  16109239769442553005\n",
      "4  2017-06-01 07:58:00     0.37  14200605875248379450\n",
      "----------------------------------------------------------------\n",
      "<class 'pandas.core.frame.DataFrame'>\n",
      "RangeIndex: 50415 entries, 0 to 50414\n",
      "Data columns (total 3 columns):\n",
      " #   Column   Non-Null Count  Dtype  \n",
      "---  ------   --------------  -----  \n",
      " 0   Buy Ts   50415 non-null  object \n",
      " 1   Revenue  50415 non-null  float64\n",
      " 2   Uid      50415 non-null  uint64 \n",
      "dtypes: float64(1), object(1), uint64(1)\n",
      "memory usage: 1.2+ MB\n",
      "None\n",
      "----------------------------------------------------------------\n",
      "            Revenue           Uid\n",
      "count  50415.000000  5.041500e+04\n",
      "mean       4.999647  9.098161e+18\n",
      "std       21.818359  5.285742e+18\n",
      "min        0.000000  3.135781e+14\n",
      "25%        1.220000  4.533567e+18\n",
      "50%        2.500000  9.102274e+18\n",
      "75%        4.890000  1.368290e+19\n",
      "max     2633.280000  1.844617e+19\n",
      "----------------------------------------------------------------\n"
     ]
    }
   ],
   "source": [
    "# Imprimimos la estadística descriptiva del df \"ORDERS\"\n",
    "print(\"DATAFRAME ORDERS\")\n",
    "print(orders.head())\n",
    "print(\"----------------------------------------------------------------\")\n",
    "print(orders.info())\n",
    "print(\"----------------------------------------------------------------\")\n",
    "print(orders.describe())\n",
    "print(\"----------------------------------------------------------------\")"
   ]
  },
  {
   "cell_type": "markdown",
   "metadata": {},
   "source": [
    "**Tipos de datos**"
   ]
  },
  {
   "cell_type": "code",
   "execution_count": 9,
   "metadata": {},
   "outputs": [
    {
     "name": "stdout",
     "output_type": "stream",
     "text": [
      "Buy Ts      object\n",
      "Revenue    float64\n",
      "Uid         uint64\n",
      "dtype: object\n"
     ]
    }
   ],
   "source": [
    "# Convierte los datos en los tipos necesarios\n",
    "# Primero inspeccionamos los tipos actuales\n",
    "print(orders.dtypes)"
   ]
  },
  {
   "cell_type": "code",
   "execution_count": 10,
   "metadata": {},
   "outputs": [],
   "source": [
    "# Convertimos las columnas a sus tipos de datos correspondientes\n",
    "orders['Buy Ts'] = pd.to_datetime(orders['Buy Ts'])\n",
    "orders['Revenue'] = orders['Revenue'].astype('float')\n",
    "orders['Uid'] = orders['Uid'].astype('string')"
   ]
  },
  {
   "cell_type": "code",
   "execution_count": 11,
   "metadata": {},
   "outputs": [
    {
     "name": "stdout",
     "output_type": "stream",
     "text": [
      "Buy Ts     datetime64[ns]\n",
      "Revenue           float64\n",
      "Uid                string\n",
      "dtype: object\n"
     ]
    }
   ],
   "source": [
    "# Revisamos que los tipos de datos se hayan cambiado correctamente\n",
    "print(orders.dtypes)"
   ]
  },
  {
   "cell_type": "markdown",
   "metadata": {},
   "source": [
    "**Duplicados**"
   ]
  },
  {
   "cell_type": "code",
   "execution_count": 12,
   "metadata": {},
   "outputs": [
    {
     "name": "stdout",
     "output_type": "stream",
     "text": [
      "Buy Ts     0\n",
      "Revenue    0\n",
      "Uid        0\n",
      "dtype: int64\n"
     ]
    }
   ],
   "source": [
    "# Revisamos y eliminamos duplicados\n",
    "print(orders.isnull().sum())"
   ]
  },
  {
   "cell_type": "markdown",
   "metadata": {},
   "source": [
    "No hay duplicados por lo que podemos comenzar con el análisis"
   ]
  },
  {
   "cell_type": "markdown",
   "metadata": {},
   "source": [
    "### DataFrame \"Costs\""
   ]
  },
  {
   "cell_type": "markdown",
   "metadata": {},
   "source": [
    "**Estadística Descriptiva**"
   ]
  },
  {
   "cell_type": "code",
   "execution_count": 13,
   "metadata": {},
   "outputs": [
    {
     "name": "stdout",
     "output_type": "stream",
     "text": [
      "DATAFRAME COSTS\n",
      "   source_id          dt  costs\n",
      "0          1  2017-06-01  75.20\n",
      "1          1  2017-06-02  62.25\n",
      "2          1  2017-06-03  36.53\n",
      "3          1  2017-06-04  55.00\n",
      "4          1  2017-06-05  57.08\n",
      "----------------------------------------------------------------\n",
      "<class 'pandas.core.frame.DataFrame'>\n",
      "RangeIndex: 2542 entries, 0 to 2541\n",
      "Data columns (total 3 columns):\n",
      " #   Column     Non-Null Count  Dtype  \n",
      "---  ------     --------------  -----  \n",
      " 0   source_id  2542 non-null   int64  \n",
      " 1   dt         2542 non-null   object \n",
      " 2   costs      2542 non-null   float64\n",
      "dtypes: float64(1), int64(1), object(1)\n",
      "memory usage: 59.7+ KB\n",
      "None\n",
      "----------------------------------------------------------------\n",
      "         source_id        costs\n",
      "count  2542.000000  2542.000000\n",
      "mean      4.857199   129.477427\n",
      "std       3.181581   156.296628\n",
      "min       1.000000     0.540000\n",
      "25%       2.000000    21.945000\n",
      "50%       4.000000    77.295000\n",
      "75%       9.000000   170.065000\n",
      "max      10.000000  1788.280000\n"
     ]
    }
   ],
   "source": [
    "# Imprimimos la estadística descriptiva del df \"COSTS\"\n",
    "print(\"DATAFRAME COSTS\")\n",
    "print(costs.head())\n",
    "print(\"----------------------------------------------------------------\")\n",
    "print(costs.info())\n",
    "print(\"----------------------------------------------------------------\")\n",
    "print(costs.describe())"
   ]
  },
  {
   "cell_type": "markdown",
   "metadata": {},
   "source": [
    "**Tipos de datos**"
   ]
  },
  {
   "cell_type": "code",
   "execution_count": 14,
   "metadata": {},
   "outputs": [
    {
     "name": "stdout",
     "output_type": "stream",
     "text": [
      "source_id      int64\n",
      "dt            object\n",
      "costs        float64\n",
      "dtype: object\n"
     ]
    }
   ],
   "source": [
    "# Convierte los datos en los tipos necesarios\n",
    "# Primero inspeccionamos los tipos actuales\n",
    "print(costs.dtypes)"
   ]
  },
  {
   "cell_type": "code",
   "execution_count": 15,
   "metadata": {},
   "outputs": [],
   "source": [
    "# Convertimos las columnas a sus tipos de datos correspondientes\n",
    "costs['dt'] = pd.to_datetime(costs['dt'])\n",
    "costs['costs'] = costs['costs'].astype('float')"
   ]
  },
  {
   "cell_type": "code",
   "execution_count": 16,
   "metadata": {},
   "outputs": [
    {
     "name": "stdout",
     "output_type": "stream",
     "text": [
      "source_id             int64\n",
      "dt           datetime64[ns]\n",
      "costs               float64\n",
      "dtype: object\n"
     ]
    }
   ],
   "source": [
    "# Revisamos que los tipos de datos se hayan cambiado correctamente\n",
    "print(costs.dtypes)"
   ]
  },
  {
   "cell_type": "markdown",
   "metadata": {},
   "source": [
    "**Duplicados**"
   ]
  },
  {
   "cell_type": "code",
   "execution_count": 17,
   "metadata": {},
   "outputs": [
    {
     "name": "stdout",
     "output_type": "stream",
     "text": [
      "source_id    0\n",
      "dt           0\n",
      "costs        0\n",
      "dtype: int64\n"
     ]
    }
   ],
   "source": [
    "# Revisamos y eliminamos duplicados\n",
    "print(costs.isnull().sum())"
   ]
  },
  {
   "cell_type": "markdown",
   "metadata": {},
   "source": [
    "No hay duplicados por lo que podemos comenzar con el análisis"
   ]
  },
  {
   "cell_type": "markdown",
   "metadata": {},
   "source": [
    "## Haz informes y calcula métricas "
   ]
  },
  {
   "cell_type": "markdown",
   "metadata": {},
   "source": [
    "**¿Cuántas personas lo usan cada día, semana y mes?**"
   ]
  },
  {
   "cell_type": "code",
   "execution_count": 18,
   "metadata": {},
   "outputs": [],
   "source": [
    "# 1. Personas que lo usan cada día, semana y mes\n",
    "# Usuarios únicos por día\n",
    "users_per_day = visits.groupby(visits['Start Ts'].dt.date)['Uid'].nunique()\n",
    "# Usuarios únicos por semana\n",
    "users_per_week = visits.groupby(visits['Start Ts'].dt.to_period('W'))['Uid'].nunique()\n",
    "# Usuarios únicos por mes\n",
    "users_per_month = visits.groupby(visits['Start Ts'].dt.to_period('M'))['Uid'].nunique()"
   ]
  },
  {
   "cell_type": "code",
   "execution_count": 19,
   "metadata": {},
   "outputs": [
    {
     "name": "stdout",
     "output_type": "stream",
     "text": [
      "Usuarios únicos por día:\n",
      "Start Ts\n",
      "2017-06-01    605\n",
      "2017-06-02    608\n",
      "2017-06-03    445\n",
      "2017-06-04    476\n",
      "2017-06-05    820\n",
      "Name: Uid, dtype: int64\n",
      "\n",
      "Usuarios únicos por semana:\n",
      "Start Ts\n",
      "2017-05-29/2017-06-04    2021\n",
      "2017-06-05/2017-06-11    4129\n",
      "2017-06-12/2017-06-18    2812\n",
      "2017-06-19/2017-06-25    2878\n",
      "2017-06-26/2017-07-02    3064\n",
      "Freq: W-SUN, Name: Uid, dtype: int64\n",
      "\n",
      "Usuarios únicos por mes:\n",
      "Start Ts\n",
      "2017-06    13259\n",
      "2017-07    14183\n",
      "2017-08    11631\n",
      "2017-09    18975\n",
      "2017-10    29692\n",
      "Freq: M, Name: Uid, dtype: int64\n"
     ]
    }
   ],
   "source": [
    "# Resultados\n",
    "print(\"Usuarios únicos por día:\")\n",
    "print(users_per_day.head())\n",
    "print(\"\\nUsuarios únicos por semana:\")\n",
    "print(users_per_week.head())\n",
    "print(\"\\nUsuarios únicos por mes:\")\n",
    "print(users_per_month.head())"
   ]
  },
  {
   "cell_type": "code",
   "execution_count": 21,
   "metadata": {},
   "outputs": [
    {
     "name": "stdout",
     "output_type": "stream",
     "text": [
      "Promedio diario de usuarios: 907.99\n",
      "Promedio semanal de usuarios: 5716.25\n",
      "Promedio mensual de usuarios: 23228.42\n"
     ]
    },
    {
     "data": {
      "image/png": "[encoded data removed]",
      "text/plain": [
       "<Figure size 800x500 with 1 Axes>"
      ]
     },
     "metadata": {},
     "output_type": "display_data"
    },
    {
     "data": {
      "image/png": "[encoded data removed]",
      "text/plain": [
       "<Figure size 1400x700 with 3 Axes>"
      ]
     },
     "metadata": {},
     "output_type": "display_data"
    }
   ],
   "source": [
    "# Gráficos\n",
    "\n",
    "# Calcular promedios\n",
    "daily_avg_users = users_per_day.mean()\n",
    "weekly_avg_users = users_per_week.mean()\n",
    "monthly_avg_users = users_per_month.mean()\n",
    "\n",
    "# Mostrar los promedios calculados\n",
    "print(f\"Promedio diario de usuarios: {daily_avg_users:.2f}\")\n",
    "print(f\"Promedio semanal de usuarios: {weekly_avg_users:.2f}\")\n",
    "print(f\"Promedio mensual de usuarios: {monthly_avg_users:.2f}\")\n",
    "\n",
    "# Crear un gráfico de barras para los promedios\n",
    "labels = ['Diario', 'Semanal', 'Mensual']\n",
    "averages = [daily_avg_users, weekly_avg_users, monthly_avg_users]\n",
    "\n",
    "plt.figure(figsize=(8, 5))\n",
    "plt.bar(labels, averages, color=['b', 'g', 'r'])\n",
    "plt.xlabel(\"Período\")\n",
    "plt.ylabel(\"Cantidad promedio de usuarios\")\n",
    "plt.title(\"Promedio de Usuarios por Período\")\n",
    "plt.tight_layout()\n",
    "\n",
    "# Mostrar el gráfico\n",
    "plt.show()\n",
    "\n",
    "# Graficar los datos originales por día, semana y mes para una comparación visual\n",
    "plt.figure(figsize=(14, 7))\n",
    "\n",
    "# Gráfico por día\n",
    "plt.subplot(3, 1, 1)\n",
    "users_per_day.plot(marker='o', color='b', label=\"Usuarios por Día\")\n",
    "plt.axhline(daily_avg_users, color='r', linestyle='--', label=f\"Promedio Diario: {daily_avg_users:.2f}\")\n",
    "plt.title(\"Usuarios por Día\")\n",
    "plt.xlabel(\"Fecha\")\n",
    "plt.ylabel(\"Usuarios\")\n",
    "plt.legend()\n",
    "\n",
    "# Gráfico por semana\n",
    "plt.subplot(3, 1, 2)\n",
    "users_per_week.plot(marker='s', color='g', label=\"Usuarios por Semana\")\n",
    "plt.axhline(weekly_avg_users, color='r', linestyle='--', label=f\"Promedio Semanal: {weekly_avg_users:.2f}\")\n",
    "plt.title(\"Usuarios por Semana\")\n",
    "plt.xlabel(\"Fecha\")\n",
    "plt.ylabel(\"Usuarios\")\n",
    "plt.legend()\n",
    "\n",
    "# Gráfico por mes\n",
    "plt.subplot(3, 1, 3)\n",
    "users_per_month.plot(marker='^', color='r', label=\"Usuarios por Mes\")\n",
    "plt.axhline(monthly_avg_users, color='b', linestyle='--', label=f\"Promedio Mensual: {monthly_avg_users:.2f}\")\n",
    "plt.title(\"Usuarios por Mes\")\n",
    "plt.xlabel(\"Fecha\")\n",
    "plt.ylabel(\"Usuarios\")\n",
    "plt.legend()\n",
    "\n",
    "plt.tight_layout()\n",
    "\n",
    "# Mostrar los gráficos comparativos\n",
    "plt.show()"
   ]
  },
  {
   "cell_type": "markdown",
   "metadata": {},
   "source": [
    "**Comentarios**\n",
    "\n",
    "De las gráficas podemos ver que a medida que los datos se agregan a periodos más largos (semanal y mensual), la cantidad promedio de usuarios aumenta considerablemente.\n",
    "Además, existe una tendencia de crecimiento general, con picos notables en diciembre de 2017 (diario y semanal) y noviembre de 2017 (mensual).\n",
    "Sin embargo, después de los picos, hay un declive leve en la actividad, reflejado tanto en los datos semanales como mensuales."
   ]
  },
  {
   "cell_type": "markdown",
   "metadata": {},
   "source": [
    "**¿Cuántas sesiones hay por día? (Un usuario puede tener más de una sesión)**"
   ]
  },
  {
   "cell_type": "code",
   "execution_count": 22,
   "metadata": {},
   "outputs": [],
   "source": [
    "# 2. Número de sesiones por día\n",
    "sessions_per_day = visits.groupby(visits['Start Ts'].dt.date).size()"
   ]
  },
  {
   "cell_type": "code",
   "execution_count": 23,
   "metadata": {},
   "outputs": [
    {
     "name": "stdout",
     "output_type": "stream",
     "text": [
      "\n",
      "Sesiones por día:\n",
      "Start Ts\n",
      "2017-06-01    664\n",
      "2017-06-02    658\n",
      "2017-06-03    477\n",
      "2017-06-04    510\n",
      "2017-06-05    893\n",
      "dtype: int64\n"
     ]
    }
   ],
   "source": [
    "# Resultados\n",
    "print(\"\\nSesiones por día:\")\n",
    "print(sessions_per_day.head())"
   ]
  },
  {
   "cell_type": "code",
   "execution_count": 24,
   "metadata": {},
   "outputs": [
    {
     "data": {
      "image/png": "[encoded data removed]",
      "text/plain": [
       "<Figure size 1000x600 with 1 Axes>"
      ]
     },
     "metadata": {},
     "output_type": "display_data"
    }
   ],
   "source": [
    "# Gráfico\n",
    "\n",
    "# Crear el gráfico de sesiones por día\n",
    "plt.figure(figsize=(10, 6))\n",
    "plt.plot(sessions_per_day.index, sessions_per_day.values, label=\"Sesiones por día\", marker='o', linestyle='-', color='b')\n",
    "plt.xlabel(\"Fecha\")\n",
    "plt.ylabel(\"Cantidad de sesiones\")\n",
    "plt.title(\"Sesiones por Día\")\n",
    "plt.xticks(rotation=45)\n",
    "plt.tight_layout()\n",
    "\n",
    "# Mostrar el gráfico\n",
    "plt.show()"
   ]
  },
  {
   "cell_type": "markdown",
   "metadata": {},
   "source": [
    "**Comentarios**\n",
    "\n",
    "Del gráfico podemos ver que en noviembre de 2017 hubo un pico muy drástico en el número de sesiones por día y en abril de 2018 hubo un gran declive en las sesiones. Se recomendaría indagar el porque de estos picos muy drásticos pero en general podemos observar que en promedio durante estos 2 años hubo unas 1,000 visitas al sitio por día."
   ]
  },
  {
   "cell_type": "markdown",
   "metadata": {},
   "source": [
    "**¿Cuál es la duración de cada sesión?**"
   ]
  },
  {
   "cell_type": "code",
   "execution_count": 25,
   "metadata": {},
   "outputs": [],
   "source": [
    "# 3. Duración de cada sesión\n",
    "visits['Session Duration (minutes)'] = (visits['End Ts'] - visits['Start Ts']).dt.total_seconds() / 60"
   ]
  },
  {
   "cell_type": "code",
   "execution_count": 26,
   "metadata": {},
   "outputs": [
    {
     "name": "stdout",
     "output_type": "stream",
     "text": [
      "\n",
      "Duración de cada sesión (minutos):\n",
      "                    Uid  Session Duration (minutes)\n",
      "0  16879256277535980062                        18.0\n",
      "1    104060357244891740                        28.0\n",
      "2   7459035603376831527                         0.0\n",
      "3  16174680259334210214                        24.0\n",
      "4   9969694820036681168                         0.0\n"
     ]
    }
   ],
   "source": [
    "# Resultados\n",
    "print(\"\\nDuración de cada sesión (minutos):\")\n",
    "print(visits[['Uid', 'Session Duration (minutes)']].head())"
   ]
  },
  {
   "cell_type": "code",
   "execution_count": 27,
   "metadata": {},
   "outputs": [
    {
     "data": {
      "image/png": "[encoded data removed]",
      "text/plain": [
       "<Figure size 1000x600 with 1 Axes>"
      ]
     },
     "metadata": {},
     "output_type": "display_data"
    }
   ],
   "source": [
    "# Gráfico\n",
    "\n",
    "# Calcular la duración de las sesiones en minutos\n",
    "visits['Session Duration (minutes)'] = (visits['End Ts'] - visits['Start Ts']).dt.total_seconds() / 60\n",
    "\n",
    "# Calcular la duración promedio por día\n",
    "avg_duration_per_day = visits.groupby(visits['Start Ts'].dt.date)['Session Duration (minutes)'].mean()\n",
    "\n",
    "# Crear el gráfico de duración promedio de sesión por día\n",
    "plt.figure(figsize=(10, 6))\n",
    "plt.plot(avg_duration_per_day.index, avg_duration_per_day.values, label=\"Duración promedio por día (minutos)\", marker='o', linestyle='-', color='r')\n",
    "plt.xlabel(\"Fecha\")\n",
    "plt.ylabel(\"Duración promedio (minutos)\")\n",
    "plt.title(\"Duración Promedio de Sesión por Día\")\n",
    "plt.xticks(rotation=45)\n",
    "plt.tight_layout()\n",
    "\n",
    "# Mostrar el gráfico\n",
    "plt.show()"
   ]
  },
  {
   "cell_type": "markdown",
   "metadata": {},
   "source": [
    "**Comentarios**\n",
    "\n",
    "Del gráfico podemos ver que la duración promedio de las visitas ronda entre los 7.5 y 12.5 min. A pesar de esto, los dos picos se siguen mostrando (uno a la alta y otro a la bahaja) del mismo modo que se pudo ver en la gráfica de arriba."
   ]
  },
  {
   "cell_type": "markdown",
   "metadata": {},
   "source": [
    "**¿Con qué frecuencia los usuarios regresan?**"
   ]
  },
  {
   "cell_type": "code",
   "execution_count": 28,
   "metadata": {},
   "outputs": [],
   "source": [
    "# 4. Frecuencia de retorno de usuarios\n",
    "# Ordenar las visitas por usuario y fecha\n",
    "visits = visits.sort_values(by=['Uid', 'Start Ts'])\n",
    "# Calcular la fecha de la próxima visita por usuario\n",
    "visits['Next Visit'] = visits.groupby('Uid')['Start Ts'].shift(-1)\n",
    "# Calcular días entre visitas consecutivas\n",
    "visits['Days Between Visits'] = (visits['Next Visit'] - visits['Start Ts']).dt.days"
   ]
  },
  {
   "cell_type": "code",
   "execution_count": 29,
   "metadata": {},
   "outputs": [
    {
     "name": "stdout",
     "output_type": "stream",
     "text": [
      "\n",
      "Días entre visitas consecutivas:\n",
      "                         Uid  Days Between Visits\n",
      "21480   10000837700716403746                  0.0\n",
      "172014  10000837700716403746                  0.0\n",
      "19640   10000837700716403746                 11.0\n",
      "74851   10000837700716403746                  0.0\n",
      "214554  10000837700716403746                  1.0\n"
     ]
    }
   ],
   "source": [
    "# Resultados\n",
    "print(\"\\nDías entre visitas consecutivas:\")\n",
    "print(visits[['Uid', 'Days Between Visits']].dropna().head())\n"
   ]
  },
  {
   "cell_type": "code",
   "execution_count": 30,
   "metadata": {},
   "outputs": [
    {
     "data": {
      "image/png": "[encoded data removed]",
      "text/plain": [
       "<Figure size 1000x600 with 1 Axes>"
      ]
     },
     "metadata": {},
     "output_type": "display_data"
    }
   ],
   "source": [
    "# Gráfico\n",
    "\n",
    "# Filtrar para eliminar valores NaN (última visita de cada usuario)\n",
    "visits_cleaned = visits.dropna(subset=['Days Between Visits'])\n",
    "\n",
    "# Graficar la distribución de los días entre visitas\n",
    "plt.figure(figsize=(10, 6))\n",
    "plt.hist(visits_cleaned['Days Between Visits'], bins=30, color='skyblue', edgecolor='black')\n",
    "plt.xlabel(\"Días entre visitas consecutivas\")\n",
    "plt.ylabel(\"Frecuencia\")\n",
    "plt.title(\"Distribución de la Frecuencia de Retorno de Usuarios\")\n",
    "plt.tight_layout()\n",
    "\n",
    "# Mostrar el gráfico\n",
    "plt.show()"
   ]
  },
  {
   "cell_type": "markdown",
   "metadata": {},
   "source": [
    "**Comentarios**\n",
    "\n",
    "Del gráfico podemos ver que la frecuencia de retornos de los usuarios se agrupa principalmente en los días 0 - 10 consecutivos de visitas; es decir, la gran mayoría de los usuarios no pasan más de 10 días en regresar otra vez al sitio web, lo cual nos dice que los usuarios han salido muy complaicdos con los servicios que se ofrecen por lo que tienden a regresar."
   ]
  },
  {
   "cell_type": "markdown",
   "metadata": {},
   "source": [
    "**¿Cuándo empieza la gente a comprar?**\n",
    "\n",
    "(En el análisis de KPI, generalmente nos interesa saber el tiempo que transcurre entre el registro y la conversión, es decir, cuando el usuario se convierte en cliente. Por ejemplo, si el registro y la primera compra ocurren el mismo día, el usuario podría caer en la categoría Conversion 0d. Si la primera compra ocurre al día siguiente, será Conversion 1d. Puedes usar cualquier enfoque que te permita comparar las conversiones de diferentes cohortes para que puedas determinar qué cohorte o canal de marketing es más efectivo.)"
   ]
  },
  {
   "cell_type": "code",
   "execution_count": 31,
   "metadata": {},
   "outputs": [
    {
     "name": "stdout",
     "output_type": "stream",
     "text": [
      "                         Uid      first_visit_ts\n",
      "0       10000171586432207426 2017-12-01 15:11:00\n",
      "1       10000344846682484395 2018-02-21 16:01:00\n",
      "2        1000036778515242839 2017-09-05 20:22:00\n",
      "3       10000460875579931334 2017-09-13 09:12:00\n",
      "4       10000558740593440652 2018-01-03 18:39:00\n",
      "...                      ...                 ...\n",
      "228164   9999530179466660745 2017-06-14 14:33:00\n",
      "228165   9999704916412649026 2017-06-29 23:04:00\n",
      "228166   9999829453910784044 2017-11-09 15:32:00\n",
      "228167   9999912853550499774 2017-08-18 09:23:00\n",
      "228168   9999996800317156310 2017-11-24 17:22:00\n",
      "\n",
      "[228169 rows x 2 columns]\n"
     ]
    }
   ],
   "source": [
    "# 1. Obtener la primera visita de cada usuario (la primera fila para cada Uid)\n",
    "first_visit = visits.groupby('Uid')['Start Ts'].min().reset_index()\n",
    "first_visit.columns = ['Uid', 'first_visit_ts']\n",
    "print(first_visit)"
   ]
  },
  {
   "cell_type": "code",
   "execution_count": 32,
   "metadata": {},
   "outputs": [
    {
     "name": "stdout",
     "output_type": "stream",
     "text": [
      "                        Uid      first_order_ts\n",
      "0      10000837700716403746 2017-06-21 16:12:00\n",
      "1      10000997030965831953 2018-01-19 12:28:00\n",
      "2      10001199569370567060 2017-11-25 17:29:00\n",
      "3      10002243978166172255 2017-10-15 17:20:00\n",
      "4      10003351403065971701 2017-11-20 13:18:00\n",
      "...                     ...                 ...\n",
      "36518    999745712858219747 2017-08-08 17:53:00\n",
      "36519   9997777271989789335 2017-11-17 16:36:00\n",
      "36520    999906621142257600 2018-01-26 22:16:00\n",
      "36521   9999334409150825432 2017-12-06 13:28:00\n",
      "36522   9999407206938542587 2018-02-14 19:50:00\n",
      "\n",
      "[36523 rows x 2 columns]\n"
     ]
    }
   ],
   "source": [
    "# 2. Obtener la primera compra de cada usuario (la primera fila para cada Uid en Orders)\n",
    "first_order = orders.groupby('Uid')['Buy Ts'].min().reset_index()\n",
    "first_order.columns = ['Uid', 'first_order_ts']\n",
    "print(first_order)"
   ]
  },
  {
   "cell_type": "code",
   "execution_count": 33,
   "metadata": {},
   "outputs": [
    {
     "name": "stdout",
     "output_type": "stream",
     "text": [
      "                        Uid      first_order_ts      first_visit_ts\n",
      "0      10000837700716403746 2017-06-21 16:12:00 2017-06-08 10:12:00\n",
      "1      10000997030965831953 2018-01-19 12:28:00 2018-01-19 11:16:00\n",
      "2      10001199569370567060 2017-11-25 17:29:00 2017-11-25 17:26:00\n",
      "3      10002243978166172255 2017-10-15 17:20:00 2017-10-15 17:18:00\n",
      "4      10003351403065971701 2017-11-20 13:18:00 2017-11-20 13:17:00\n",
      "...                     ...                 ...                 ...\n",
      "36518    999745712858219747 2017-08-08 17:53:00 2017-08-08 15:12:00\n",
      "36519   9997777271989789335 2017-11-17 16:36:00 2017-11-17 16:35:00\n",
      "36520    999906621142257600 2018-01-26 22:16:00 2018-01-26 22:05:00\n",
      "36521   9999334409150825432 2017-12-06 13:28:00 2017-12-06 13:26:00\n",
      "36522   9999407206938542587 2018-02-14 19:50:00 2018-02-14 19:47:00\n",
      "\n",
      "[36523 rows x 3 columns]\n"
     ]
    }
   ],
   "source": [
    "# 3. Unir la primera visita con la primera compra\n",
    "user_data = pd.merge(first_order, first_visit, on='Uid', how='left')\n",
    "print(user_data)"
   ]
  },
  {
   "cell_type": "code",
   "execution_count": 34,
   "metadata": {},
   "outputs": [
    {
     "name": "stdout",
     "output_type": "stream",
     "text": [
      "                        Uid      first_order_ts      first_visit_ts  \\\n",
      "0      10000837700716403746 2017-06-21 16:12:00 2017-06-08 10:12:00   \n",
      "1      10000997030965831953 2018-01-19 12:28:00 2018-01-19 11:16:00   \n",
      "2      10001199569370567060 2017-11-25 17:29:00 2017-11-25 17:26:00   \n",
      "3      10002243978166172255 2017-10-15 17:20:00 2017-10-15 17:18:00   \n",
      "4      10003351403065971701 2017-11-20 13:18:00 2017-11-20 13:17:00   \n",
      "...                     ...                 ...                 ...   \n",
      "36518    999745712858219747 2017-08-08 17:53:00 2017-08-08 15:12:00   \n",
      "36519   9997777271989789335 2017-11-17 16:36:00 2017-11-17 16:35:00   \n",
      "36520    999906621142257600 2018-01-26 22:16:00 2018-01-26 22:05:00   \n",
      "36521   9999334409150825432 2017-12-06 13:28:00 2017-12-06 13:26:00   \n",
      "36522   9999407206938542587 2018-02-14 19:50:00 2018-02-14 19:47:00   \n",
      "\n",
      "       days_to_conversion  \n",
      "0                      13  \n",
      "1                       0  \n",
      "2                       0  \n",
      "3                       0  \n",
      "4                       0  \n",
      "...                   ...  \n",
      "36518                   0  \n",
      "36519                   0  \n",
      "36520                   0  \n",
      "36521                   0  \n",
      "36522                   0  \n",
      "\n",
      "[36523 rows x 4 columns]\n"
     ]
    }
   ],
   "source": [
    "# 4. Calcular el tiempo en días entre la primera visita y la primera compra\n",
    "user_data['days_to_conversion'] = (user_data['first_order_ts'] - user_data['first_visit_ts']).dt.days\n",
    "\n",
    "print(user_data)\n"
   ]
  },
  {
   "cell_type": "code",
   "execution_count": 35,
   "metadata": {},
   "outputs": [
    {
     "name": "stdout",
     "output_type": "stream",
     "text": [
      "                    Uid conversion_category Source Id\n",
      "0  10000837700716403746      Conversion 13d         4\n",
      "1  10000837700716403746      Conversion 13d         1\n",
      "4  10000837700716403746      Conversion 13d         5\n",
      "7  10000997030965831953       Conversion 0d         4\n",
      "8  10001199569370567060       Conversion 0d         4\n"
     ]
    }
   ],
   "source": [
    "# 5. Clasificar a los usuarios según el tiempo de conversión\n",
    "def conversion_category(days):\n",
    "    if pd.isna(days):\n",
    "        return 'No Purchase'\n",
    "    elif days == 0:\n",
    "        return 'Conversion 0d'\n",
    "    else:\n",
    "        return f'Conversion {days}d'\n",
    "\n",
    "user_data['conversion_category'] = user_data['days_to_conversion'].apply(conversion_category)\n",
    "\n",
    "# 6. Análisis de cohortes de marketing: unir con el DataFrame Visits para obtener la fuente de los anuncios\n",
    "visits['Source Id'] = visits['Source Id'].astype(str)  # Asegurar que Source Id sea un string\n",
    "user_data = pd.merge(user_data, visits[['Uid', 'Source Id']], on='Uid', how='left')\n",
    "\n",
    "# Mostrar los resultados\n",
    "print(user_data[['Uid', 'conversion_category', 'Source Id']].drop_duplicates().head(5))"
   ]
  },
  {
   "cell_type": "markdown",
   "metadata": {},
   "source": [
    "**¿Cuántos pedidos hacen durante un período de tiempo dado?**"
   ]
  },
  {
   "cell_type": "code",
   "execution_count": 36,
   "metadata": {},
   "outputs": [],
   "source": [
    "# Agrupamos los pedidos por mes\n",
    "orders_per_period = orders.groupby(orders['Buy Ts'].dt.to_period('M')).size()"
   ]
  },
  {
   "cell_type": "code",
   "execution_count": 37,
   "metadata": {},
   "outputs": [
    {
     "data": {
      "image/png": "[encoded data removed]",
      "text/plain": [
       "<Figure size 1200x600 with 1 Axes>"
      ]
     },
     "metadata": {},
     "output_type": "display_data"
    }
   ],
   "source": [
    "# Crear gráfico de barras\n",
    "plt.figure(figsize=(12, 6))\n",
    "plt.bar(orders_per_period.index.astype(str), orders_per_period.values)\n",
    "\n",
    "# Mejorar la visualización\n",
    "plt.xlabel(\"Mes\")\n",
    "plt.ylabel(\"Número de Órdenes\")\n",
    "plt.title(\"Número de Órdenes por Mes\")\n",
    "plt.xticks(rotation=45)\n",
    "plt.tight_layout()\n",
    "\n",
    "# Mostrar el gráfico\n",
    "plt.show()"
   ]
  },
  {
   "cell_type": "markdown",
   "metadata": {},
   "source": [
    "**Comentarios**\n",
    "\n",
    "Del gráfico podemos ver que el número de las órdenes por mes tiene un crecimiento consirable entre los meses de octubre 2017 y marzo 2018. A lo mejor en esos meses hubo eventos de mayor interés a los usuarios donde se vio reflejado este incremento en el número de órdenes. De la misma forma en los extremos (junio 2017 a septiembre 2017) se ve que la demanda no fue del todo alta con un máximo de 3,500 ordenes al mes, comparados con los casi 6,000 órdenes en los meses altos."
   ]
  },
  {
   "cell_type": "markdown",
   "metadata": {},
   "source": [
    "**¿Cuál es el tamaño promedio de compra?**"
   ]
  },
  {
   "cell_type": "code",
   "execution_count": 38,
   "metadata": {},
   "outputs": [
    {
     "name": "stdout",
     "output_type": "stream",
     "text": [
      "4.999646930477041\n"
     ]
    }
   ],
   "source": [
    "average_order_value = orders['Revenue'].mean()\n",
    "print(average_order_value)"
   ]
  },
  {
   "cell_type": "markdown",
   "metadata": {},
   "source": [
    "**¿Cuánto dinero traen? (LTV)**"
   ]
  },
  {
   "cell_type": "code",
   "execution_count": 53,
   "metadata": {},
   "outputs": [
    {
     "data": {
      "image/png": "[encoded data removed]",
      "text/plain": [
       "<Figure size 1000x600 with 1 Axes>"
      ]
     },
     "metadata": {},
     "output_type": "display_data"
    }
   ],
   "source": [
    "# Asegúrate de que la columna 'Buy Ts' sea de tipo fecha\n",
    "orders['Date'] = pd.to_datetime(orders['Buy Ts'])\n",
    "\n",
    "# Crear la columna de cohort (mes de la primera compra por usuario)\n",
    "orders['Cohort'] = orders.groupby('Uid')['Buy Ts'].transform('min').dt.to_period('M')\n",
    "\n",
    "# Calcular el LTV por cohort\n",
    "ltv_cohort = orders.groupby('Cohort')['Revenue'].sum().reset_index()\n",
    "\n",
    "# Convertir la columna 'Cohort' a string para graficarla\n",
    "ltv_cohort['Cohort'] = ltv_cohort['Cohort'].astype(str)\n",
    "\n",
    "# Crear una gráfica de barras para mostrar el LTV por cohort\n",
    "plt.figure(figsize=(10, 6))\n",
    "plt.bar(ltv_cohort['Cohort'], ltv_cohort['Revenue'], color='green')\n",
    "plt.title('LTV por Cohort (Fecha de Primera Compra)')\n",
    "plt.xlabel('Cohort (Mes de la Primera Compra)')\n",
    "plt.ylabel('Lifetime Value (Revenue)')\n",
    "plt.xticks(rotation=45)\n",
    "plt.tight_layout()\n",
    "plt.show()"
   ]
  },
  {
   "cell_type": "markdown",
   "metadata": {},
   "source": [
    "**Comentarios**\n",
    "\n",
    "Del gráfico podemos ver los meses de septiembre 2017 a diciembre 2017 fueron los meses con mas ingresos por cohort generados por la empresa. Además se puede ver que en 2018, la empresa no tuvo un gran comienzo de año debido a que sus ingresos estuvieron por debajo de lo esperado, promediando $15,000, comparados con los más de $25,000 de los meses top en 2017."
   ]
  },
  {
   "cell_type": "markdown",
   "metadata": {},
   "source": [
    "**¿Cuánto dinero se gastó?  (Total/por fuente de adquisición/a lo largo del tiempo)**"
   ]
  },
  {
   "cell_type": "code",
   "execution_count": 54,
   "metadata": {},
   "outputs": [
    {
     "data": {
      "image/png": "[encoded data removed]",
      "text/plain": [
       "<Figure size 1200x800 with 2 Axes>"
      ]
     },
     "metadata": {},
     "output_type": "display_data"
    }
   ],
   "source": [
    "# Asegúrate de que 'dt' sea de tipo fecha\n",
    "costs['dt'] = pd.to_datetime(costs['dt'])\n",
    "\n",
    "# Crear una columna con el mes correspondiente\n",
    "costs['Month'] = costs['dt'].dt.to_period('M')\n",
    "\n",
    "# Calcular el gasto total por fuente y por mes usando pivot_table\n",
    "costs_pivot = costs.pivot_table(values='costs', \n",
    "                                index='Month', \n",
    "                                columns='source_id', \n",
    "                                aggfunc='sum', \n",
    "                                fill_value=0)\n",
    "\n",
    "# Convertir el índice 'Month' a string para mejorar la gráfica\n",
    "costs_pivot.index = costs_pivot.index.astype(str)\n",
    "\n",
    "# Crear el mapa de calor\n",
    "plt.figure(figsize=(12, 8))\n",
    "sns.heatmap(costs_pivot, cmap=\"YlGnBu\", annot=True, fmt=\".0f\", linewidths=0.5)\n",
    "plt.title(\"Gasto Mensual por Fuente de Adquisición\")\n",
    "plt.xlabel(\"Source ID\")\n",
    "plt.ylabel(\"Month\")\n",
    "plt.xticks(rotation=45)\n",
    "plt.tight_layout()\n",
    "plt.show()"
   ]
  },
  {
   "cell_type": "markdown",
   "metadata": {},
   "source": [
    "**Comentarios**\n",
    "\n",
    "Del mapa de calor podemos ver que el Source ID con mayor gasto fue el 3, con picos al cierre del 2017. Sorprendentemente, ningpun otros Source ID estuve cerca de los gastos que tuve este Source a lo largo de los años. Además, podemos observar que los Sources 1, 9 y 10 tuvieron los menores gastos mensuales, lo que nos dice o que no son tan vistos o no generan tantas visitas. Todo esto lo debería tomar en cuenta la empresa para maximizar sus ganancias."
   ]
  },
  {
   "cell_type": "markdown",
   "metadata": {},
   "source": [
    "**¿Cuál fue el costo de adquisición de clientes de cada una de las fuentes?**"
   ]
  },
  {
   "cell_type": "code",
   "execution_count": 41,
   "metadata": {},
   "outputs": [
    {
     "name": "stdout",
     "output_type": "stream",
     "text": [
      "Costo de adquisición de clientes por fuente:\n",
      "  Source Id        CAC\n",
      "0         1   2.918642\n",
      "1         2   5.859828\n",
      "2         3  10.206676\n",
      "3         4   4.284965\n",
      "4         5   5.096209\n",
      "5         9   1.975471\n",
      "6        10   3.283976\n"
     ]
    }
   ],
   "source": [
    "# Unir la información de los usuarios que compraron con la fuente de adquisición\n",
    "first_order['first_order_ts'] = pd.to_datetime(first_order['first_order_ts'])\n",
    "user_data = pd.merge(first_order, visits[['Uid', 'Source Id']], on='Uid', how='left')\n",
    "\n",
    "# Calcular el número de clientes por fuente de adquisición\n",
    "clients_by_source = user_data.groupby('Source Id')['Uid'].nunique().reset_index()\n",
    "clients_by_source.columns = ['Source Id', 'Num Clients']\n",
    "\n",
    "# Convertir 'Source Id' en ambos DataFrames a tipo string para evitar conflictos de tipo\n",
    "total_cost_by_source['Source Id'] = total_cost_by_source['Source Id'].astype(str)\n",
    "clients_by_source['Source Id'] = clients_by_source['Source Id'].astype(str)\n",
    "\n",
    "# Unir los datos de clientes con los costos por fuente\n",
    "cac_by_source = pd.merge(total_cost_by_source, clients_by_source, on='Source Id')\n",
    "\n",
    "# Calcular el costo de adquisición por cliente\n",
    "cac_by_source['CAC'] = cac_by_source['Total Costs'] / cac_by_source['Num Clients']\n",
    "\n",
    "# Mostrar el costo de adquisición por fuente\n",
    "print(\"Costo de adquisición de clientes por fuente:\")\n",
    "print(cac_by_source[['Source Id', 'CAC']])\n"
   ]
  },
  {
   "cell_type": "code",
   "execution_count": 42,
   "metadata": {},
   "outputs": [
    {
     "data": {
      "image/png": "[encoded data removed]",
      "text/plain": [
       "<Figure size 1200x600 with 1 Axes>"
      ]
     },
     "metadata": {},
     "output_type": "display_data"
    }
   ],
   "source": [
    "# Gráfico\n",
    "\n",
    "# Crear gráfico de barras\n",
    "plt.figure(figsize=(12, 6))\n",
    "plt.bar(cac_by_source['Source Id'], cac_by_source['CAC'], color='skyblue')\n",
    "\n",
    "# Mejorar la visualización\n",
    "plt.xlabel(\"Fuente de Adquisición\")\n",
    "plt.ylabel(\"Costo de Adquisición por Cliente (CAC)\")\n",
    "plt.title(\"Costo de Adquisición de Clientes por Fuente de Adquisición\")\n",
    "plt.xticks(rotation=45)\n",
    "plt.tight_layout()\n",
    "\n",
    "# Mostrar el gráfico\n",
    "plt.show()"
   ]
  },
  {
   "cell_type": "markdown",
   "metadata": {},
   "source": [
    "**Comentarios**\n",
    "\n",
    "Siguiendo el análisis del mapa de calor, podemos rectificar lo comentado allá, donde la fuente 3 fue la de mayor gasto, mientras que la 1, 9 y 10 tuvieron el menor gasto. Aquí ya se muestra un poco más resumido y sin tanto color."
   ]
  },
  {
   "cell_type": "markdown",
   "metadata": {},
   "source": [
    "**¿Cuán rentables eran las inversiones? (ROMI)**"
   ]
  },
  {
   "cell_type": "code",
   "execution_count": 43,
   "metadata": {},
   "outputs": [
    {
     "name": "stdout",
     "output_type": "stream",
     "text": [
      "Rentabilidad de las inversiones (ROMI) por fuente:\n",
      "  Source Id        ROMI\n",
      "0         1  110.313944\n",
      "1         2   61.631237\n",
      "2         3    2.099381\n",
      "3         4    8.132649\n",
      "4         5   22.827344\n",
      "5         9    6.586736\n",
      "6        10    2.510821\n"
     ]
    }
   ],
   "source": [
    "# Calcular los ingresos generados por cada fuente\n",
    "orders_by_source = pd.merge(orders, visits[['Uid', 'Source Id']], on='Uid', how='left')\n",
    "revenue_by_source = orders_by_source.groupby('Source Id')['Revenue'].sum().reset_index()\n",
    "revenue_by_source.columns = ['Source Id', 'Total Revenue']\n",
    "\n",
    "# Unir los ingresos con los costos por fuente\n",
    "romi_by_source = pd.merge(cac_by_source, revenue_by_source, on='Source Id')\n",
    "\n",
    "# Calcular el ROMI\n",
    "romi_by_source['ROMI'] = romi_by_source['Total Revenue'] / romi_by_source['Total Costs']\n",
    "\n",
    "# Mostrar los resultados\n",
    "print(\"Rentabilidad de las inversiones (ROMI) por fuente:\")\n",
    "print(romi_by_source[['Source Id', 'ROMI']])"
   ]
  },
  {
   "cell_type": "code",
   "execution_count": 44,
   "metadata": {},
   "outputs": [
    {
     "data": {
      "image/png": "[encoded data removed]",
      "text/plain": [
       "<Figure size 1200x600 with 1 Axes>"
      ]
     },
     "metadata": {},
     "output_type": "display_data"
    }
   ],
   "source": [
    "# Gráfico\n",
    "\n",
    "# Crear gráfico de barras\n",
    "plt.figure(figsize=(12, 6))\n",
    "plt.bar(romi_by_source['Source Id'], romi_by_source['ROMI'], color='lightgreen')\n",
    "\n",
    "# Mejorar la visualización\n",
    "plt.xlabel(\"Fuente de Adquisición\")\n",
    "plt.ylabel(\"Rentabilidad de las Inversiones (ROMI)\")\n",
    "plt.title(\"Rentabilidad de las Inversiones (ROMI) por Fuente de Adquisición\")\n",
    "plt.xticks(rotation=45)\n",
    "plt.tight_layout()\n",
    "\n",
    "# Mostrar el gráfico\n",
    "plt.show()"
   ]
  },
  {
   "cell_type": "markdown",
   "metadata": {},
   "source": [
    "De esta gráfica puedo ver que la fuente con mayor ROMI es la 1 seguida de la 2. Si nos vamos al análisis de la gráfica pasada, podemos ver que el COC de la fuente 1 es de los más bajos, por lo que esta fuente es la más rentable debido a que tiene un menor COC y la mayor rentabilidad de las fuentes. La fuente 2 a pesar de ser la segunda fuente con mayor COC es la segunda fuente con mayor ROMI por lo que también es una fuente prometedora para la empresa."
   ]
  },
  {
   "cell_type": "markdown",
   "metadata": {},
   "source": [
    "## Gráficas"
   ]
  },
  {
   "cell_type": "code",
   "execution_count": 45,
   "metadata": {},
   "outputs": [
    {
     "name": "stdout",
     "output_type": "stream",
     "text": [
      "  Source Id  Total Costs  Num Clients       CAC                   Uid  \\\n",
      "0         1     20833.27         7138  2.918642  10000837700716403746   \n",
      "1         1     20833.27         7138  2.918642  10000837700716403746   \n",
      "2         1     20833.27         7138  2.918642  10000837700716403746   \n",
      "3         1     20833.27         7138  2.918642  10000962813665337931   \n",
      "4         1     20833.27         7138  2.918642  10001091218281033249   \n",
      "\n",
      "    Device            Start Ts  \n",
      "0  desktop 2017-06-08 13:33:00  \n",
      "1  desktop 2017-06-08 17:39:00  \n",
      "2  desktop 2017-06-20 10:42:00  \n",
      "3    touch 2018-01-29 22:01:00  \n",
      "4  desktop 2017-10-15 16:19:00  \n"
     ]
    }
   ],
   "source": [
    "# Unir la información de costos y clientes con la fuente de adquisición y los dispositivos\n",
    "device_info = visits[['Uid', 'Device', 'Source Id', 'Start Ts']].drop_duplicates()\n",
    "\n",
    "# Asegúrate de que la fecha esté en formato datetime\n",
    "device_info['Start Ts'] = pd.to_datetime(device_info['Start Ts'])\n",
    "\n",
    "# Unir los datos con el DataFrame 'cac_by_source'\n",
    "cac_by_device_source = pd.merge(cac_by_source, device_info, on='Source Id', how='left')\n",
    "\n",
    "# Verificar el DataFrame resultante\n",
    "print(cac_by_device_source.head())"
   ]
  },
  {
   "cell_type": "code",
   "execution_count": 46,
   "metadata": {},
   "outputs": [
    {
     "name": "stdout",
     "output_type": "stream",
     "text": [
      "         Date   Device Source Id  Total_Costs  Num_Clients        CAC\n",
      "0  2017-06-01  desktop         1   1249996.20       428280   2.918642\n",
      "1  2017-06-01  desktop        10     40757.43        12411   3.283976\n",
      "2  2017-06-01  desktop         2   2825198.64       482130   5.859828\n",
      "3  2017-06-01  desktop         3  21763531.02      2132284  10.206676\n",
      "4  2017-06-01  desktop         4   5740918.40      1339782   4.284965\n"
     ]
    }
   ],
   "source": [
    "# Extraer solo la fecha sin la hora\n",
    "cac_by_device_source['Date'] = cac_by_device_source['Start Ts'].dt.date\n",
    "\n",
    "# Agrupar por dispositivo, fuente y fecha\n",
    "cac_by_device_source_grouped = cac_by_device_source.groupby(['Date', 'Device', 'Source Id']).agg(\n",
    "    Total_Costs=('Total Costs', 'sum'),\n",
    "    Num_Clients=('Num Clients', 'sum'),\n",
    "    CAC=('CAC', 'mean')\n",
    ").reset_index()\n",
    "\n",
    "# Verificar los primeros resultados\n",
    "print(cac_by_device_source_grouped.head())"
   ]
  },
  {
   "cell_type": "code",
   "execution_count": null,
   "metadata": {},
   "outputs": [],
   "source": [
    "# Graficar 'Total Costs' por dispositivo y tiempo\n",
    "plt.figure(figsize=(12, 8))\n",
    "sns.lineplot(data=cac_by_device_source_grouped, x='Date', y='Total_Costs', hue='Device', markers=True)\n",
    "plt.title('Gastos Totales por Dispositivo a lo Largo del Tiempo')\n",
    "plt.xlabel('Fecha')\n",
    "plt.ylabel('Gastos Totales')\n",
    "plt.xticks(rotation=45)\n",
    "plt.legend(title='Dispositivos', bbox_to_anchor=(1.05, 1), loc='upper left')\n",
    "plt.tight_layout()\n",
    "plt.show()"
   ]
  },
  {
   "cell_type": "code",
   "execution_count": null,
   "metadata": {},
   "outputs": [],
   "source": [
    "# Graficar 'Total Costs' por dispositivo y fuente \n",
    "plt.figure(figsize=(12, 8))\n",
    "sns.lineplot(data=cac_by_device_source_grouped, x='Date', y='Total_Costs', hue='Source Id', markers=True)\n",
    "plt.title('Gastos Totales por Fuente de Anuncios a lo Largo del Tiempo')\n",
    "plt.xlabel('Fecha')\n",
    "plt.ylabel('Gastos Totales')\n",
    "plt.xticks(rotation=45)\n",
    "plt.legend(title='Fuente de Anuncios', bbox_to_anchor=(1.05, 1), loc='upper left')\n",
    "plt.tight_layout()\n",
    "plt.show()"
   ]
  },
  {
   "cell_type": "code",
   "execution_count": null,
   "metadata": {},
   "outputs": [],
   "source": [
    "# Graficar 'Num Clients' por dispositivo y tiempo\n",
    "plt.figure(figsize=(12, 8))\n",
    "sns.lineplot(data=cac_by_device_source_grouped, x='Date', y='Num_Clients', hue='Device', markers=True)\n",
    "plt.title('Número de Clientes por Dispositivo a lo Largo del Tiempo')\n",
    "plt.xlabel('Fecha')\n",
    "plt.ylabel('Número de Clientes')\n",
    "plt.xticks(rotation=45)\n",
    "plt.legend(title='Dispositivos', bbox_to_anchor=(1.05, 1), loc='upper left')\n",
    "plt.tight_layout()\n",
    "plt.show()"
   ]
  },
  {
   "cell_type": "code",
   "execution_count": null,
   "metadata": {},
   "outputs": [],
   "source": [
    "# Graficar 'Num Clients' por fuente y tiempo\n",
    "plt.figure(figsize=(12, 8))\n",
    "sns.lineplot(data=cac_by_device_source_grouped, x='Date', y='Num_Clients', hue='Source Id', markers=True)\n",
    "plt.title('Número de Clientes por Fuente de Anuncios a lo Largo del Tiempo')\n",
    "plt.xlabel('Fecha')\n",
    "plt.ylabel('Número de Clientes')\n",
    "plt.xticks(rotation=45)\n",
    "plt.legend(title='Fuente de Anuncios', bbox_to_anchor=(1.05, 1), loc='upper left')\n",
    "plt.tight_layout()\n",
    "plt.show()"
   ]
  },
  {
   "cell_type": "markdown",
   "metadata": {},
   "source": [
    "## Conclusiones"
   ]
  },
  {
   "cell_type": "markdown",
   "metadata": {},
   "source": [
    "**ROMI**: Sabemos que un ROMI alto es mayor a 1, por lo tanto, y viendo la gráfica, podemos concluir que la Fuente de Adquisición 1, 2 y 5 son las más rentables, por lo que estas fuentes deben ser una prioridad para aumentar el presupuesto de marketing o continuar la inversión.\n",
    "\n",
    "**PLATAFORMAS**: A pesar que la mayor cantidad de clientes está en la plataforma \"Desktop\" y debido a que es la que más costo les genera, la empresa también deberá implementar estrategias de Marekting para que impulsen la plataforma \"Touch\", que es de bajo costo, para que así la empresa tenga más clientes por menos costo total de operación.\n",
    "\n",
    "\n",
    "**FUENTE DE ADQUISICIÓN**: Por las gráficas, sabemos que hay una mayor parte de clientes en las fuentes 3, 4 y 5, pero también sabemos que estas fuentes son las que más Costo por Adquisición por Cliente tienen y también son las que menos ROMI generan. Es por esto que yo sugeriría a la empresa potenciar las fuentes 1 y 2 que son las que más ROMI tienen y tienen un Costo de Aquisición por Cliente menor a lo antes visto. Así la empresa podrá retener a sus clientes y gastar menos; es decir, van a hacer más con menos.\n",
    "\n",
    "**CANTIDAD DE USUARIOS POR MES**: Derivado del análisis, podemos ver que entre los meses de agosto 2017 y enero 2018 se tuvo una mayor cantidad de usuarios. A pesar de seguir una tendencia a la alza, no podemos concluir que este patrón se seguirá año con año, se deberá analizar los demás años anteriores o posteriores para poder concluir con certeza si existen meses con mayor tendencia o no. Si fuera el caso, ahí hay un área de oportundiad en cuanto a costos y marketing para atraer y retener a sus clientes.\n",
    "\n",
    "**NÚMERO DE ORDENES**: La cantidad de órdenes hechas es directamente proporcional a la canitdad de usuarios al mes; es decir, mientras más usuarios se tengan en el mes, más órdenes se tendrán. Esto refuerza la idea de que en los meses con picos se tenga una estrategia diferente para poder acaparar todas las órdenes y mantener felices a los clientes.\n",
    "\n",
    "**DÍAS ENTRE VISITAS CONSECUTIVAS**: Por último, gracias a las gráficas pude notar que la mayor cantidad de clientes tardan menos de 10 días en volver a entrar a la página web, lo que quiere decir que hay una satisfacción del cliente muy buena por parte de la empresa. Esto es bueno ya que aydua a que los clientes se mantengan y posiblemente recomienden sus servicios a familiares o amigos."
   ]
  }
 ],
 "metadata": {
  "ExecuteTimeLog": [
   {
    "duration": 2545,
    "start_time": "2024-12-12T21:36:42.942Z"
   },
   {
    "duration": 412,
    "start_time": "2024-12-12T21:38:19.568Z"
   },
   {
    "duration": 348,
    "start_time": "2024-12-12T21:38:36.856Z"
   },
   {
    "duration": 352,
    "start_time": "2024-12-12T21:39:12.890Z"
   },
   {
    "duration": 449,
    "start_time": "2024-12-12T21:40:24.553Z"
   },
   {
    "duration": 416,
    "start_time": "2024-12-12T21:40:50.506Z"
   },
   {
    "duration": 411,
    "start_time": "2024-12-12T21:41:09.573Z"
   },
   {
    "duration": 348,
    "start_time": "2024-12-12T21:41:24.023Z"
   },
   {
    "duration": 793,
    "start_time": "2024-12-12T21:42:32.317Z"
   },
   {
    "duration": 348,
    "start_time": "2024-12-12T21:42:33.112Z"
   },
   {
    "duration": 72,
    "start_time": "2024-12-12T21:42:33.462Z"
   },
   {
    "duration": 19,
    "start_time": "2024-12-12T21:42:33.536Z"
   },
   {
    "duration": 14,
    "start_time": "2024-12-12T21:42:33.557Z"
   },
   {
    "duration": 3,
    "start_time": "2024-12-12T21:46:28.791Z"
   },
   {
    "duration": 394,
    "start_time": "2024-12-12T21:49:07.897Z"
   },
   {
    "duration": 26,
    "start_time": "2024-12-12T21:49:13.533Z"
   },
   {
    "duration": 3,
    "start_time": "2024-12-12T21:49:45.169Z"
   },
   {
    "duration": 3,
    "start_time": "2024-12-12T21:50:30.116Z"
   },
   {
    "duration": 50,
    "start_time": "2024-12-12T21:51:23.814Z"
   },
   {
    "duration": 3,
    "start_time": "2024-12-12T21:51:25.120Z"
   },
   {
    "duration": 14,
    "start_time": "2024-12-12T21:51:44.750Z"
   },
   {
    "duration": 4,
    "start_time": "2024-12-12T21:52:00.025Z"
   },
   {
    "duration": 411,
    "start_time": "2024-12-12T21:52:01.199Z"
   },
   {
    "duration": 4,
    "start_time": "2024-12-12T21:52:34.829Z"
   },
   {
    "duration": 3,
    "start_time": "2024-12-12T21:52:36.056Z"
   },
   {
    "duration": 14,
    "start_time": "2024-12-12T21:59:02.511Z"
   },
   {
    "duration": 26,
    "start_time": "2024-12-12T21:59:23.174Z"
   },
   {
    "duration": 87,
    "start_time": "2024-12-12T21:59:46.140Z"
   },
   {
    "duration": 4,
    "start_time": "2024-12-12T21:59:54.864Z"
   },
   {
    "duration": 87,
    "start_time": "2024-12-12T22:00:08.882Z"
   },
   {
    "duration": 14,
    "start_time": "2024-12-12T22:00:17.334Z"
   },
   {
    "duration": 7,
    "start_time": "2024-12-12T22:01:02.961Z"
   },
   {
    "duration": 4,
    "start_time": "2024-12-12T22:01:19.020Z"
   },
   {
    "duration": 823,
    "start_time": "2024-12-12T22:17:44.028Z"
   },
   {
    "duration": 361,
    "start_time": "2024-12-12T22:17:44.853Z"
   },
   {
    "duration": 74,
    "start_time": "2024-12-12T22:17:45.219Z"
   },
   {
    "duration": 3,
    "start_time": "2024-12-12T22:17:45.296Z"
   },
   {
    "duration": 148,
    "start_time": "2024-12-12T22:17:45.311Z"
   },
   {
    "duration": 4,
    "start_time": "2024-12-12T22:17:45.460Z"
   },
   {
    "duration": 15,
    "start_time": "2024-12-12T22:17:45.465Z"
   },
   {
    "duration": 30,
    "start_time": "2024-12-12T22:17:45.482Z"
   },
   {
    "duration": 3,
    "start_time": "2024-12-12T22:17:45.513Z"
   },
   {
    "duration": 52,
    "start_time": "2024-12-12T22:17:45.518Z"
   },
   {
    "duration": 3,
    "start_time": "2024-12-12T22:17:45.571Z"
   },
   {
    "duration": 7,
    "start_time": "2024-12-12T22:17:45.576Z"
   },
   {
    "duration": 37,
    "start_time": "2024-12-12T22:17:45.585Z"
   },
   {
    "duration": 3,
    "start_time": "2024-12-12T22:17:45.626Z"
   },
   {
    "duration": 4,
    "start_time": "2024-12-12T22:17:45.630Z"
   },
   {
    "duration": 4,
    "start_time": "2024-12-12T22:17:45.636Z"
   },
   {
    "duration": 4,
    "start_time": "2024-12-12T22:17:45.642Z"
   },
   {
    "duration": 288,
    "start_time": "2024-12-12T22:17:45.647Z"
   },
   {
    "duration": 0,
    "start_time": "2024-12-12T22:17:45.936Z"
   },
   {
    "duration": 0,
    "start_time": "2024-12-12T22:17:45.937Z"
   },
   {
    "duration": 0,
    "start_time": "2024-12-12T22:17:45.939Z"
   },
   {
    "duration": 0,
    "start_time": "2024-12-12T22:17:45.940Z"
   },
   {
    "duration": 790,
    "start_time": "2024-12-12T22:19:05.708Z"
   },
   {
    "duration": 337,
    "start_time": "2024-12-12T22:19:06.500Z"
   },
   {
    "duration": 75,
    "start_time": "2024-12-12T22:19:06.839Z"
   },
   {
    "duration": 3,
    "start_time": "2024-12-12T22:19:06.917Z"
   },
   {
    "duration": 144,
    "start_time": "2024-12-12T22:19:06.921Z"
   },
   {
    "duration": 3,
    "start_time": "2024-12-12T22:19:07.067Z"
   },
   {
    "duration": 14,
    "start_time": "2024-12-12T22:19:07.072Z"
   },
   {
    "duration": 37,
    "start_time": "2024-12-12T22:19:07.088Z"
   },
   {
    "duration": 3,
    "start_time": "2024-12-12T22:19:07.126Z"
   },
   {
    "duration": 49,
    "start_time": "2024-12-12T22:19:07.132Z"
   },
   {
    "duration": 4,
    "start_time": "2024-12-12T22:19:07.182Z"
   },
   {
    "duration": 27,
    "start_time": "2024-12-12T22:19:07.187Z"
   },
   {
    "duration": 17,
    "start_time": "2024-12-12T22:19:07.215Z"
   },
   {
    "duration": 3,
    "start_time": "2024-12-12T22:19:07.234Z"
   },
   {
    "duration": 12,
    "start_time": "2024-12-12T22:19:07.239Z"
   },
   {
    "duration": 4,
    "start_time": "2024-12-12T22:19:07.253Z"
   },
   {
    "duration": 5,
    "start_time": "2024-12-12T22:19:07.258Z"
   },
   {
    "duration": 307,
    "start_time": "2024-12-12T22:19:07.265Z"
   },
   {
    "duration": 92,
    "start_time": "2024-12-12T22:19:07.574Z"
   },
   {
    "duration": 8,
    "start_time": "2024-12-12T22:19:07.668Z"
   },
   {
    "duration": 217,
    "start_time": "2024-12-12T22:19:07.677Z"
   },
   {
    "duration": 275,
    "start_time": "2024-12-12T22:19:07.896Z"
   },
   {
    "duration": 19,
    "start_time": "2024-12-12T22:19:52.030Z"
   },
   {
    "duration": 193,
    "start_time": "2024-12-12T22:21:16.571Z"
   },
   {
    "duration": 4,
    "start_time": "2024-12-12T22:21:29.849Z"
   },
   {
    "duration": 4,
    "start_time": "2024-12-12T22:21:55.826Z"
   },
   {
    "duration": 6,
    "start_time": "2024-12-12T22:22:12.102Z"
   },
   {
    "duration": 11,
    "start_time": "2024-12-12T22:22:20.031Z"
   },
   {
    "duration": 15,
    "start_time": "2024-12-12T22:28:10.631Z"
   },
   {
    "duration": 343,
    "start_time": "2024-12-12T22:28:34.481Z"
   },
   {
    "duration": 63,
    "start_time": "2024-12-12T22:29:00.133Z"
   },
   {
    "duration": 98,
    "start_time": "2024-12-12T22:29:05.258Z"
   },
   {
    "duration": 814,
    "start_time": "2024-12-12T22:29:15.959Z"
   },
   {
    "duration": 343,
    "start_time": "2024-12-12T22:29:16.775Z"
   },
   {
    "duration": 71,
    "start_time": "2024-12-12T22:29:17.119Z"
   },
   {
    "duration": 3,
    "start_time": "2024-12-12T22:29:17.193Z"
   },
   {
    "duration": 173,
    "start_time": "2024-12-12T22:29:17.198Z"
   },
   {
    "duration": 3,
    "start_time": "2024-12-12T22:29:17.372Z"
   },
   {
    "duration": 15,
    "start_time": "2024-12-12T22:29:17.377Z"
   },
   {
    "duration": 19,
    "start_time": "2024-12-12T22:29:17.411Z"
   },
   {
    "duration": 4,
    "start_time": "2024-12-12T22:29:17.431Z"
   },
   {
    "duration": 49,
    "start_time": "2024-12-12T22:29:17.438Z"
   },
   {
    "duration": 3,
    "start_time": "2024-12-12T22:29:17.489Z"
   },
   {
    "duration": 24,
    "start_time": "2024-12-12T22:29:17.494Z"
   },
   {
    "duration": 15,
    "start_time": "2024-12-12T22:29:17.519Z"
   },
   {
    "duration": 4,
    "start_time": "2024-12-12T22:29:17.536Z"
   },
   {
    "duration": 4,
    "start_time": "2024-12-12T22:29:17.541Z"
   },
   {
    "duration": 4,
    "start_time": "2024-12-12T22:29:17.547Z"
   },
   {
    "duration": 4,
    "start_time": "2024-12-12T22:29:17.552Z"
   },
   {
    "duration": 310,
    "start_time": "2024-12-12T22:29:17.558Z"
   },
   {
    "duration": 5,
    "start_time": "2024-12-12T22:29:17.870Z"
   },
   {
    "duration": 99,
    "start_time": "2024-12-12T22:29:17.876Z"
   },
   {
    "duration": 3,
    "start_time": "2024-12-12T22:29:17.977Z"
   },
   {
    "duration": 8,
    "start_time": "2024-12-12T22:29:17.981Z"
   },
   {
    "duration": 21,
    "start_time": "2024-12-12T22:29:17.991Z"
   },
   {
    "duration": 216,
    "start_time": "2024-12-12T22:29:18.014Z"
   },
   {
    "duration": 13,
    "start_time": "2024-12-12T22:29:18.231Z"
   },
   {
    "duration": 581,
    "start_time": "2024-12-12T22:29:18.248Z"
   },
   {
    "duration": 13,
    "start_time": "2024-12-12T22:30:06.337Z"
   },
   {
    "duration": 6,
    "start_time": "2024-12-12T22:30:11.987Z"
   },
   {
    "duration": 7,
    "start_time": "2024-12-12T22:30:22.722Z"
   },
   {
    "duration": 14,
    "start_time": "2024-12-12T22:30:39.097Z"
   },
   {
    "duration": 438,
    "start_time": "2024-12-12T22:30:42.535Z"
   },
   {
    "duration": 3,
    "start_time": "2024-12-12T22:31:29.978Z"
   },
   {
    "duration": 830,
    "start_time": "2024-12-12T22:31:40.532Z"
   },
   {
    "duration": 354,
    "start_time": "2024-12-12T22:31:41.366Z"
   },
   {
    "duration": 77,
    "start_time": "2024-12-12T22:31:41.721Z"
   },
   {
    "duration": 12,
    "start_time": "2024-12-12T22:31:41.800Z"
   },
   {
    "duration": 143,
    "start_time": "2024-12-12T22:31:41.813Z"
   },
   {
    "duration": 4,
    "start_time": "2024-12-12T22:31:41.958Z"
   },
   {
    "duration": 15,
    "start_time": "2024-12-12T22:31:41.963Z"
   },
   {
    "duration": 32,
    "start_time": "2024-12-12T22:31:41.980Z"
   },
   {
    "duration": 4,
    "start_time": "2024-12-12T22:31:42.013Z"
   },
   {
    "duration": 56,
    "start_time": "2024-12-12T22:31:42.021Z"
   },
   {
    "duration": 3,
    "start_time": "2024-12-12T22:31:42.079Z"
   },
   {
    "duration": 33,
    "start_time": "2024-12-12T22:31:42.084Z"
   },
   {
    "duration": 17,
    "start_time": "2024-12-12T22:31:42.118Z"
   },
   {
    "duration": 4,
    "start_time": "2024-12-12T22:31:42.136Z"
   },
   {
    "duration": 3,
    "start_time": "2024-12-12T22:31:42.142Z"
   },
   {
    "duration": 4,
    "start_time": "2024-12-12T22:31:42.147Z"
   },
   {
    "duration": 5,
    "start_time": "2024-12-12T22:31:42.152Z"
   },
   {
    "duration": 305,
    "start_time": "2024-12-12T22:31:42.159Z"
   },
   {
    "duration": 4,
    "start_time": "2024-12-12T22:31:42.466Z"
   },
   {
    "duration": 101,
    "start_time": "2024-12-12T22:31:42.472Z"
   },
   {
    "duration": 3,
    "start_time": "2024-12-12T22:31:42.575Z"
   },
   {
    "duration": 8,
    "start_time": "2024-12-12T22:31:42.580Z"
   },
   {
    "duration": 27,
    "start_time": "2024-12-12T22:31:42.589Z"
   },
   {
    "duration": 214,
    "start_time": "2024-12-12T22:31:42.618Z"
   },
   {
    "duration": 14,
    "start_time": "2024-12-12T22:31:42.834Z"
   },
   {
    "duration": 592,
    "start_time": "2024-12-12T22:31:42.850Z"
   },
   {
    "duration": 0,
    "start_time": "2024-12-12T22:31:43.444Z"
   },
   {
    "duration": 0,
    "start_time": "2024-12-12T22:31:43.447Z"
   },
   {
    "duration": 0,
    "start_time": "2024-12-12T22:31:43.448Z"
   },
   {
    "duration": 464,
    "start_time": "2024-12-12T22:31:52.912Z"
   },
   {
    "duration": 7,
    "start_time": "2024-12-12T22:31:56.472Z"
   },
   {
    "duration": 4,
    "start_time": "2024-12-12T22:31:58.533Z"
   },
   {
    "duration": 17,
    "start_time": "2024-12-12T22:32:18.476Z"
   },
   {
    "duration": 4,
    "start_time": "2024-12-12T22:32:19.397Z"
   },
   {
    "duration": 772,
    "start_time": "2024-12-12T22:32:25.516Z"
   },
   {
    "duration": 336,
    "start_time": "2024-12-12T22:32:26.290Z"
   },
   {
    "duration": 72,
    "start_time": "2024-12-12T22:32:26.628Z"
   },
   {
    "duration": 12,
    "start_time": "2024-12-12T22:32:26.701Z"
   },
   {
    "duration": 144,
    "start_time": "2024-12-12T22:32:26.715Z"
   },
   {
    "duration": 4,
    "start_time": "2024-12-12T22:32:26.860Z"
   },
   {
    "duration": 15,
    "start_time": "2024-12-12T22:32:26.865Z"
   },
   {
    "duration": 31,
    "start_time": "2024-12-12T22:32:26.882Z"
   },
   {
    "duration": 3,
    "start_time": "2024-12-12T22:32:26.915Z"
   },
   {
    "duration": 34,
    "start_time": "2024-12-12T22:32:26.920Z"
   },
   {
    "duration": 3,
    "start_time": "2024-12-12T22:32:26.956Z"
   },
   {
    "duration": 6,
    "start_time": "2024-12-12T22:32:26.960Z"
   },
   {
    "duration": 15,
    "start_time": "2024-12-12T22:32:26.967Z"
   },
   {
    "duration": 3,
    "start_time": "2024-12-12T22:32:27.013Z"
   },
   {
    "duration": 4,
    "start_time": "2024-12-12T22:32:27.018Z"
   },
   {
    "duration": 4,
    "start_time": "2024-12-12T22:32:27.023Z"
   },
   {
    "duration": 4,
    "start_time": "2024-12-12T22:32:27.029Z"
   },
   {
    "duration": 319,
    "start_time": "2024-12-12T22:32:27.035Z"
   },
   {
    "duration": 4,
    "start_time": "2024-12-12T22:32:27.356Z"
   },
   {
    "duration": 101,
    "start_time": "2024-12-12T22:32:27.362Z"
   },
   {
    "duration": 3,
    "start_time": "2024-12-12T22:32:27.465Z"
   },
   {
    "duration": 8,
    "start_time": "2024-12-12T22:32:27.470Z"
   },
   {
    "duration": 11,
    "start_time": "2024-12-12T22:32:27.480Z"
   },
   {
    "duration": 219,
    "start_time": "2024-12-12T22:32:27.492Z"
   },
   {
    "duration": 15,
    "start_time": "2024-12-12T22:32:27.713Z"
   },
   {
    "duration": 611,
    "start_time": "2024-12-12T22:32:27.730Z"
   },
   {
    "duration": 0,
    "start_time": "2024-12-12T22:32:28.343Z"
   },
   {
    "duration": 0,
    "start_time": "2024-12-12T22:32:28.344Z"
   },
   {
    "duration": 0,
    "start_time": "2024-12-12T22:32:28.345Z"
   },
   {
    "duration": 8,
    "start_time": "2024-12-12T22:32:49.568Z"
   },
   {
    "duration": 5,
    "start_time": "2024-12-12T22:32:51.511Z"
   },
   {
    "duration": 4,
    "start_time": "2024-12-12T22:32:52.433Z"
   },
   {
    "duration": 33,
    "start_time": "2024-12-12T22:33:12.924Z"
   },
   {
    "duration": 36,
    "start_time": "2024-12-12T22:33:20.897Z"
   },
   {
    "duration": 769,
    "start_time": "2024-12-12T22:36:11.282Z"
   },
   {
    "duration": 342,
    "start_time": "2024-12-12T22:36:12.053Z"
   },
   {
    "duration": 78,
    "start_time": "2024-12-12T22:36:12.396Z"
   },
   {
    "duration": 4,
    "start_time": "2024-12-12T22:36:12.477Z"
   },
   {
    "duration": 324,
    "start_time": "2024-12-12T22:36:12.485Z"
   },
   {
    "duration": 5,
    "start_time": "2024-12-12T22:36:12.812Z"
   },
   {
    "duration": 23,
    "start_time": "2024-12-12T22:36:12.818Z"
   },
   {
    "duration": 19,
    "start_time": "2024-12-12T22:36:12.843Z"
   },
   {
    "duration": 3,
    "start_time": "2024-12-12T22:36:12.864Z"
   },
   {
    "duration": 64,
    "start_time": "2024-12-12T22:36:12.869Z"
   },
   {
    "duration": 3,
    "start_time": "2024-12-12T22:36:12.935Z"
   },
   {
    "duration": 5,
    "start_time": "2024-12-12T22:36:12.940Z"
   },
   {
    "duration": 15,
    "start_time": "2024-12-12T22:36:12.947Z"
   },
   {
    "duration": 3,
    "start_time": "2024-12-12T22:36:12.966Z"
   },
   {
    "duration": 5,
    "start_time": "2024-12-12T22:36:12.970Z"
   },
   {
    "duration": 5,
    "start_time": "2024-12-12T22:36:12.976Z"
   },
   {
    "duration": 31,
    "start_time": "2024-12-12T22:36:12.982Z"
   },
   {
    "duration": 462,
    "start_time": "2024-12-12T22:36:13.015Z"
   },
   {
    "duration": 5,
    "start_time": "2024-12-12T22:36:13.479Z"
   },
   {
    "duration": 100,
    "start_time": "2024-12-12T22:36:13.486Z"
   },
   {
    "duration": 4,
    "start_time": "2024-12-12T22:36:13.588Z"
   },
   {
    "duration": 18,
    "start_time": "2024-12-12T22:36:13.593Z"
   },
   {
    "duration": 9,
    "start_time": "2024-12-12T22:36:13.613Z"
   },
   {
    "duration": 853,
    "start_time": "2024-12-12T22:36:13.624Z"
   },
   {
    "duration": 81,
    "start_time": "2024-12-12T22:36:14.479Z"
   },
   {
    "duration": 298,
    "start_time": "2024-12-12T22:36:14.562Z"
   },
   {
    "duration": 0,
    "start_time": "2024-12-12T22:36:14.862Z"
   },
   {
    "duration": 0,
    "start_time": "2024-12-12T22:36:14.863Z"
   },
   {
    "duration": 0,
    "start_time": "2024-12-12T22:36:14.864Z"
   },
   {
    "duration": 15,
    "start_time": "2024-12-12T22:37:27.790Z"
   },
   {
    "duration": 5,
    "start_time": "2024-12-12T22:37:36.550Z"
   },
   {
    "duration": 16,
    "start_time": "2024-12-12T22:38:09.017Z"
   },
   {
    "duration": 970,
    "start_time": "2024-12-12T22:38:27.487Z"
   },
   {
    "duration": 598,
    "start_time": "2024-12-12T22:40:47.405Z"
   },
   {
    "duration": 1115,
    "start_time": "2024-12-12T22:41:29.362Z"
   },
   {
    "duration": 717,
    "start_time": "2024-12-12T22:43:17.836Z"
   },
   {
    "duration": 645,
    "start_time": "2024-12-12T22:44:44.135Z"
   },
   {
    "duration": 647,
    "start_time": "2024-12-12T22:44:55.861Z"
   },
   {
    "duration": 659,
    "start_time": "2024-12-12T22:45:08.103Z"
   },
   {
    "duration": 662,
    "start_time": "2024-12-12T22:45:19.153Z"
   },
   {
    "duration": 676,
    "start_time": "2024-12-12T22:45:42.487Z"
   },
   {
    "duration": 42,
    "start_time": "2024-12-12T22:46:48.012Z"
   },
   {
    "duration": 326,
    "start_time": "2024-12-12T22:47:06.539Z"
   },
   {
    "duration": 33,
    "start_time": "2024-12-12T22:47:45.112Z"
   },
   {
    "duration": 213,
    "start_time": "2024-12-12T22:48:25.319Z"
   },
   {
    "duration": 171,
    "start_time": "2024-12-12T22:48:40.632Z"
   },
   {
    "duration": 424,
    "start_time": "2024-12-12T22:50:11.351Z"
   },
   {
    "duration": 459,
    "start_time": "2024-12-12T22:50:23.028Z"
   },
   {
    "duration": 85,
    "start_time": "2024-12-12T22:50:37.285Z"
   },
   {
    "duration": 851,
    "start_time": "2024-12-12T22:50:47.393Z"
   },
   {
    "duration": 509,
    "start_time": "2024-12-12T22:50:48.247Z"
   },
   {
    "duration": 100,
    "start_time": "2024-12-12T22:50:48.758Z"
   },
   {
    "duration": 4,
    "start_time": "2024-12-12T22:50:48.860Z"
   },
   {
    "duration": 413,
    "start_time": "2024-12-12T22:50:48.868Z"
   },
   {
    "duration": 5,
    "start_time": "2024-12-12T22:50:49.283Z"
   },
   {
    "duration": 40,
    "start_time": "2024-12-12T22:50:49.290Z"
   },
   {
    "duration": 35,
    "start_time": "2024-12-12T22:50:49.332Z"
   },
   {
    "duration": 3,
    "start_time": "2024-12-12T22:50:49.371Z"
   },
   {
    "duration": 39,
    "start_time": "2024-12-12T22:50:49.377Z"
   },
   {
    "duration": 4,
    "start_time": "2024-12-12T22:50:49.418Z"
   },
   {
    "duration": 14,
    "start_time": "2024-12-12T22:50:49.424Z"
   },
   {
    "duration": 19,
    "start_time": "2024-12-12T22:50:49.440Z"
   },
   {
    "duration": 4,
    "start_time": "2024-12-12T22:50:49.462Z"
   },
   {
    "duration": 7,
    "start_time": "2024-12-12T22:50:49.468Z"
   },
   {
    "duration": 4,
    "start_time": "2024-12-12T22:50:49.477Z"
   },
   {
    "duration": 4,
    "start_time": "2024-12-12T22:50:49.483Z"
   },
   {
    "duration": 557,
    "start_time": "2024-12-12T22:50:49.512Z"
   },
   {
    "duration": 5,
    "start_time": "2024-12-12T22:50:50.071Z"
   },
   {
    "duration": 114,
    "start_time": "2024-12-12T22:50:50.078Z"
   },
   {
    "duration": 3,
    "start_time": "2024-12-12T22:50:50.195Z"
   },
   {
    "duration": 23,
    "start_time": "2024-12-12T22:50:50.200Z"
   },
   {
    "duration": 9,
    "start_time": "2024-12-12T22:50:50.236Z"
   },
   {
    "duration": 1085,
    "start_time": "2024-12-12T22:50:50.248Z"
   },
   {
    "duration": 68,
    "start_time": "2024-12-12T22:50:51.335Z"
   },
   {
    "duration": 289,
    "start_time": "2024-12-12T22:50:51.405Z"
   },
   {
    "duration": 980,
    "start_time": "2024-12-12T22:50:51.695Z"
   },
   {
    "duration": 0,
    "start_time": "2024-12-12T22:50:52.677Z"
   },
   {
    "duration": 0,
    "start_time": "2024-12-12T22:50:52.679Z"
   },
   {
    "duration": 0,
    "start_time": "2024-12-12T22:50:52.680Z"
   },
   {
    "duration": 192,
    "start_time": "2024-12-12T22:52:31.280Z"
   },
   {
    "duration": 265,
    "start_time": "2024-12-12T22:52:39.100Z"
   },
   {
    "duration": 242,
    "start_time": "2024-12-12T22:55:22.801Z"
   },
   {
    "duration": 636,
    "start_time": "2024-12-12T22:55:31.207Z"
   },
   {
    "duration": 492,
    "start_time": "2024-12-12T22:59:33.225Z"
   },
   {
    "duration": 1390,
    "start_time": "2024-12-12T22:59:51.400Z"
   },
   {
    "duration": 1040,
    "start_time": "2024-12-12T23:00:40.836Z"
   },
   {
    "duration": 531,
    "start_time": "2024-12-12T23:01:20.870Z"
   },
   {
    "duration": 528,
    "start_time": "2024-12-12T23:01:32.112Z"
   },
   {
    "duration": 378,
    "start_time": "2024-12-12T23:02:13.873Z"
   },
   {
    "duration": 321,
    "start_time": "2024-12-12T23:02:28.610Z"
   },
   {
    "duration": 379,
    "start_time": "2024-12-12T23:02:34.591Z"
   },
   {
    "duration": 36,
    "start_time": "2024-12-12T23:02:56.331Z"
   },
   {
    "duration": 147,
    "start_time": "2024-12-12T23:03:16.407Z"
   },
   {
    "duration": 119,
    "start_time": "2024-12-12T23:03:55.453Z"
   },
   {
    "duration": 145,
    "start_time": "2024-12-12T23:04:25.664Z"
   },
   {
    "duration": 117,
    "start_time": "2024-12-12T23:04:33.544Z"
   },
   {
    "duration": 26,
    "start_time": "2024-12-12T23:04:48.809Z"
   },
   {
    "duration": 7,
    "start_time": "2024-12-12T23:05:16.018Z"
   },
   {
    "duration": 8,
    "start_time": "2024-12-12T23:05:24.432Z"
   },
   {
    "duration": 42,
    "start_time": "2024-12-12T23:05:41.549Z"
   },
   {
    "duration": 40,
    "start_time": "2024-12-12T23:06:19.164Z"
   },
   {
    "duration": 8,
    "start_time": "2024-12-12T23:06:25.888Z"
   },
   {
    "duration": 199,
    "start_time": "2024-12-12T23:06:34.462Z"
   },
   {
    "duration": 300,
    "start_time": "2024-12-12T23:06:51.993Z"
   },
   {
    "duration": 174,
    "start_time": "2024-12-12T23:07:08.137Z"
   },
   {
    "duration": 195,
    "start_time": "2024-12-12T23:07:12.351Z"
   },
   {
    "duration": 184,
    "start_time": "2024-12-12T23:07:20.133Z"
   },
   {
    "duration": 222,
    "start_time": "2024-12-12T23:07:46.221Z"
   },
   {
    "duration": 38,
    "start_time": "2024-12-12T23:08:17.129Z"
   },
   {
    "duration": 175,
    "start_time": "2024-12-12T23:08:28.644Z"
   },
   {
    "duration": 175,
    "start_time": "2024-12-12T23:08:39.172Z"
   },
   {
    "duration": 236,
    "start_time": "2024-12-12T23:08:51.503Z"
   },
   {
    "duration": 196,
    "start_time": "2024-12-12T23:09:10.481Z"
   },
   {
    "duration": 213,
    "start_time": "2024-12-12T23:09:20.586Z"
   },
   {
    "duration": 215,
    "start_time": "2024-12-12T23:09:37.755Z"
   },
   {
    "duration": 224,
    "start_time": "2024-12-12T23:09:40.328Z"
   },
   {
    "duration": 897,
    "start_time": "2024-12-12T23:10:01.334Z"
   },
   {
    "duration": 428,
    "start_time": "2024-12-12T23:10:02.234Z"
   },
   {
    "duration": 84,
    "start_time": "2024-12-12T23:10:02.663Z"
   },
   {
    "duration": 3,
    "start_time": "2024-12-12T23:10:02.749Z"
   },
   {
    "duration": 367,
    "start_time": "2024-12-12T23:10:02.755Z"
   },
   {
    "duration": 6,
    "start_time": "2024-12-12T23:10:03.125Z"
   },
   {
    "duration": 26,
    "start_time": "2024-12-12T23:10:03.133Z"
   },
   {
    "duration": 18,
    "start_time": "2024-12-12T23:10:03.161Z"
   },
   {
    "duration": 3,
    "start_time": "2024-12-12T23:10:03.181Z"
   },
   {
    "duration": 67,
    "start_time": "2024-12-12T23:10:03.186Z"
   },
   {
    "duration": 4,
    "start_time": "2024-12-12T23:10:03.255Z"
   },
   {
    "duration": 6,
    "start_time": "2024-12-12T23:10:03.260Z"
   },
   {
    "duration": 15,
    "start_time": "2024-12-12T23:10:03.267Z"
   },
   {
    "duration": 3,
    "start_time": "2024-12-12T23:10:03.286Z"
   },
   {
    "duration": 15,
    "start_time": "2024-12-12T23:10:03.312Z"
   },
   {
    "duration": 8,
    "start_time": "2024-12-12T23:10:03.328Z"
   },
   {
    "duration": 4,
    "start_time": "2024-12-12T23:10:03.341Z"
   },
   {
    "duration": 549,
    "start_time": "2024-12-12T23:10:03.347Z"
   },
   {
    "duration": 5,
    "start_time": "2024-12-12T23:10:03.898Z"
   },
   {
    "duration": 111,
    "start_time": "2024-12-12T23:10:03.911Z"
   },
   {
    "duration": 10,
    "start_time": "2024-12-12T23:10:04.024Z"
   },
   {
    "duration": 12,
    "start_time": "2024-12-12T23:10:04.037Z"
   },
   {
    "duration": 8,
    "start_time": "2024-12-12T23:10:04.050Z"
   },
   {
    "duration": 1188,
    "start_time": "2024-12-12T23:10:04.060Z"
   },
   {
    "duration": 97,
    "start_time": "2024-12-12T23:10:05.250Z"
   },
   {
    "duration": 466,
    "start_time": "2024-12-12T23:10:05.350Z"
   },
   {
    "duration": 56,
    "start_time": "2024-12-12T23:10:05.818Z"
   },
   {
    "duration": 129,
    "start_time": "2024-12-12T23:10:05.876Z"
   },
   {
    "duration": 13,
    "start_time": "2024-12-12T23:10:06.006Z"
   },
   {
    "duration": 422,
    "start_time": "2024-12-12T23:10:06.022Z"
   },
   {
    "duration": 6,
    "start_time": "2024-12-12T23:10:06.446Z"
   },
   {
    "duration": 3,
    "start_time": "2024-12-12T23:10:06.454Z"
   },
   {
    "duration": 34,
    "start_time": "2024-12-12T23:10:06.459Z"
   },
   {
    "duration": 11,
    "start_time": "2024-12-12T23:18:52.161Z"
   },
   {
    "duration": 625,
    "start_time": "2024-12-12T23:19:14.810Z"
   },
   {
    "duration": 361,
    "start_time": "2024-12-12T23:19:36.694Z"
   },
   {
    "duration": 205,
    "start_time": "2024-12-12T23:25:30.618Z"
   },
   {
    "duration": 194,
    "start_time": "2024-12-12T23:25:37.041Z"
   },
   {
    "duration": 343,
    "start_time": "2024-12-12T23:25:38.297Z"
   },
   {
    "duration": 2,
    "start_time": "2024-12-12T23:27:59.674Z"
   },
   {
    "duration": 489,
    "start_time": "2024-12-12T23:28:33.290Z"
   },
   {
    "duration": 5,
    "start_time": "2024-12-12T23:29:10.037Z"
   },
   {
    "duration": 21,
    "start_time": "2024-12-12T23:30:30.148Z"
   },
   {
    "duration": 457,
    "start_time": "2024-12-12T23:32:46.085Z"
   },
   {
    "duration": 49,
    "start_time": "2024-12-12T23:33:01.741Z"
   },
   {
    "duration": 339,
    "start_time": "2024-12-12T23:34:05.328Z"
   },
   {
    "duration": 284,
    "start_time": "2024-12-12T23:36:09.991Z"
   },
   {
    "duration": 593,
    "start_time": "2024-12-12T23:38:34.506Z"
   },
   {
    "duration": 186,
    "start_time": "2024-12-12T23:38:43.002Z"
   },
   {
    "duration": 806,
    "start_time": "2024-12-12T23:38:49.690Z"
   },
   {
    "duration": 713,
    "start_time": "2024-12-12T23:39:02.950Z"
   },
   {
    "duration": 802,
    "start_time": "2024-12-12T23:39:13.497Z"
   },
   {
    "duration": 10418,
    "start_time": "2024-12-12T23:40:11.953Z"
   },
   {
    "duration": 34742,
    "start_time": "2024-12-12T23:41:56.535Z"
   },
   {
    "duration": 912,
    "start_time": "2024-12-12T23:42:44.619Z"
   },
   {
    "duration": 412,
    "start_time": "2024-12-12T23:42:45.549Z"
   },
   {
    "duration": 90,
    "start_time": "2024-12-12T23:42:45.963Z"
   },
   {
    "duration": 4,
    "start_time": "2024-12-12T23:42:46.056Z"
   },
   {
    "duration": 405,
    "start_time": "2024-12-12T23:42:46.064Z"
   },
   {
    "duration": 4,
    "start_time": "2024-12-12T23:42:46.470Z"
   },
   {
    "duration": 22,
    "start_time": "2024-12-12T23:42:46.476Z"
   },
   {
    "duration": 38,
    "start_time": "2024-12-12T23:42:46.500Z"
   },
   {
    "duration": 3,
    "start_time": "2024-12-12T23:42:46.540Z"
   },
   {
    "duration": 35,
    "start_time": "2024-12-12T23:42:46.545Z"
   },
   {
    "duration": 4,
    "start_time": "2024-12-12T23:42:46.582Z"
   },
   {
    "duration": 40,
    "start_time": "2024-12-12T23:42:46.588Z"
   },
   {
    "duration": 22,
    "start_time": "2024-12-12T23:42:46.632Z"
   },
   {
    "duration": 3,
    "start_time": "2024-12-12T23:42:46.657Z"
   },
   {
    "duration": 4,
    "start_time": "2024-12-12T23:42:46.661Z"
   },
   {
    "duration": 4,
    "start_time": "2024-12-12T23:42:46.667Z"
   },
   {
    "duration": 5,
    "start_time": "2024-12-12T23:42:46.672Z"
   },
   {
    "duration": 552,
    "start_time": "2024-12-12T23:42:46.679Z"
   },
   {
    "duration": 26,
    "start_time": "2024-12-12T23:42:47.233Z"
   },
   {
    "duration": 123,
    "start_time": "2024-12-12T23:42:47.262Z"
   },
   {
    "duration": 3,
    "start_time": "2024-12-12T23:42:47.387Z"
   },
   {
    "duration": 8,
    "start_time": "2024-12-12T23:42:47.392Z"
   },
   {
    "duration": 26,
    "start_time": "2024-12-12T23:42:47.401Z"
   },
   {
    "duration": 1081,
    "start_time": "2024-12-12T23:42:47.440Z"
   },
   {
    "duration": 84,
    "start_time": "2024-12-12T23:42:48.523Z"
   },
   {
    "duration": 435,
    "start_time": "2024-12-12T23:42:48.609Z"
   },
   {
    "duration": 37,
    "start_time": "2024-12-12T23:42:49.047Z"
   },
   {
    "duration": 152,
    "start_time": "2024-12-12T23:42:49.085Z"
   },
   {
    "duration": 11,
    "start_time": "2024-12-12T23:42:49.241Z"
   },
   {
    "duration": 414,
    "start_time": "2024-12-12T23:42:49.253Z"
   },
   {
    "duration": 9,
    "start_time": "2024-12-12T23:42:49.669Z"
   },
   {
    "duration": 9,
    "start_time": "2024-12-12T23:42:49.679Z"
   },
   {
    "duration": 60,
    "start_time": "2024-12-12T23:42:49.690Z"
   },
   {
    "duration": 10,
    "start_time": "2024-12-12T23:42:49.752Z"
   },
   {
    "duration": 222,
    "start_time": "2024-12-12T23:42:49.764Z"
   },
   {
    "duration": 354,
    "start_time": "2024-12-12T23:42:49.989Z"
   },
   {
    "duration": 572,
    "start_time": "2024-12-12T23:42:50.345Z"
   },
   {
    "duration": 177,
    "start_time": "2024-12-12T23:42:50.922Z"
   },
   {
    "duration": 10331,
    "start_time": "2024-12-12T23:42:51.100Z"
   },
   {
    "duration": 33583,
    "start_time": "2024-12-12T23:43:01.432Z"
   },
   {
    "duration": 657,
    "start_time": "2024-12-12T23:43:35.020Z"
   },
   {
    "duration": 701,
    "start_time": "2024-12-12T23:43:35.678Z"
   },
   {
    "duration": 10496,
    "start_time": "2024-12-12T23:45:09.759Z"
   },
   {
    "duration": 35506,
    "start_time": "2024-12-12T23:45:27.839Z"
   },
   {
    "duration": 10039,
    "start_time": "2024-12-12T23:46:03.348Z"
   },
   {
    "duration": 33680,
    "start_time": "2024-12-12T23:46:30.789Z"
   },
   {
    "duration": 10654,
    "start_time": "2024-12-12T23:47:31.753Z"
   },
   {
    "duration": 36089,
    "start_time": "2024-12-12T23:47:57.013Z"
   },
   {
    "duration": 875,
    "start_time": "2024-12-12T23:51:09.240Z"
   },
   {
    "duration": 453,
    "start_time": "2024-12-12T23:51:10.117Z"
   },
   {
    "duration": 90,
    "start_time": "2024-12-12T23:51:10.571Z"
   },
   {
    "duration": 4,
    "start_time": "2024-12-12T23:51:10.663Z"
   },
   {
    "duration": 374,
    "start_time": "2024-12-12T23:51:10.670Z"
   },
   {
    "duration": 3,
    "start_time": "2024-12-12T23:51:11.046Z"
   },
   {
    "duration": 23,
    "start_time": "2024-12-12T23:51:11.051Z"
   },
   {
    "duration": 19,
    "start_time": "2024-12-12T23:51:11.076Z"
   },
   {
    "duration": 22,
    "start_time": "2024-12-12T23:51:11.096Z"
   },
   {
    "duration": 49,
    "start_time": "2024-12-12T23:51:11.121Z"
   },
   {
    "duration": 3,
    "start_time": "2024-12-12T23:51:11.172Z"
   },
   {
    "duration": 7,
    "start_time": "2024-12-12T23:51:11.176Z"
   },
   {
    "duration": 50,
    "start_time": "2024-12-12T23:51:11.185Z"
   },
   {
    "duration": 3,
    "start_time": "2024-12-12T23:51:11.244Z"
   },
   {
    "duration": 5,
    "start_time": "2024-12-12T23:51:11.249Z"
   },
   {
    "duration": 5,
    "start_time": "2024-12-12T23:51:11.255Z"
   },
   {
    "duration": 5,
    "start_time": "2024-12-12T23:51:11.261Z"
   },
   {
    "duration": 524,
    "start_time": "2024-12-12T23:51:11.268Z"
   },
   {
    "duration": 5,
    "start_time": "2024-12-12T23:51:11.793Z"
   },
   {
    "duration": 132,
    "start_time": "2024-12-12T23:51:11.799Z"
   },
   {
    "duration": 4,
    "start_time": "2024-12-12T23:51:11.942Z"
   },
   {
    "duration": 8,
    "start_time": "2024-12-12T23:51:11.948Z"
   },
   {
    "duration": 11,
    "start_time": "2024-12-12T23:51:11.959Z"
   },
   {
    "duration": 1115,
    "start_time": "2024-12-12T23:51:11.972Z"
   },
   {
    "duration": 88,
    "start_time": "2024-12-12T23:51:13.089Z"
   },
   {
    "duration": 436,
    "start_time": "2024-12-12T23:51:13.179Z"
   },
   {
    "duration": 43,
    "start_time": "2024-12-12T23:51:13.626Z"
   },
   {
    "duration": 125,
    "start_time": "2024-12-12T23:51:13.671Z"
   },
   {
    "duration": 16,
    "start_time": "2024-12-12T23:51:13.798Z"
   },
   {
    "duration": 423,
    "start_time": "2024-12-12T23:51:13.817Z"
   },
   {
    "duration": 7,
    "start_time": "2024-12-12T23:51:14.242Z"
   },
   {
    "duration": 4,
    "start_time": "2024-12-12T23:51:14.250Z"
   },
   {
    "duration": 34,
    "start_time": "2024-12-12T23:51:14.255Z"
   },
   {
    "duration": 39,
    "start_time": "2024-12-12T23:51:14.291Z"
   },
   {
    "duration": 205,
    "start_time": "2024-12-12T23:51:14.333Z"
   },
   {
    "duration": 363,
    "start_time": "2024-12-12T23:51:14.540Z"
   },
   {
    "duration": 625,
    "start_time": "2024-12-12T23:51:14.905Z"
   },
   {
    "duration": 195,
    "start_time": "2024-12-12T23:51:15.532Z"
   },
   {
    "duration": 10930,
    "start_time": "2024-12-12T23:51:15.729Z"
   },
   {
    "duration": 35289,
    "start_time": "2024-12-12T23:51:26.661Z"
   },
   {
    "duration": 10935,
    "start_time": "2024-12-12T23:52:01.955Z"
   },
   {
    "duration": 37807,
    "start_time": "2024-12-12T23:52:12.891Z"
   },
   {
    "duration": 1547,
    "start_time": "2024-12-12T23:59:20.638Z"
   },
   {
    "duration": 953,
    "start_time": "2024-12-13T00:01:34.912Z"
   },
   {
    "duration": 1119,
    "start_time": "2024-12-13T00:02:06.689Z"
   },
   {
    "duration": 294,
    "start_time": "2024-12-13T00:03:48.687Z"
   },
   {
    "duration": 226,
    "start_time": "2024-12-13T00:04:42.654Z"
   },
   {
    "duration": 907,
    "start_time": "2024-12-13T00:05:26.336Z"
   },
   {
    "duration": 915,
    "start_time": "2024-12-13T00:05:39.853Z"
   },
   {
    "duration": 405,
    "start_time": "2024-12-13T00:06:35.341Z"
   },
   {
    "duration": 5774,
    "start_time": "2024-12-13T00:08:09.386Z"
   },
   {
    "duration": 6855,
    "start_time": "2024-12-13T00:09:04.724Z"
   },
   {
    "duration": 273,
    "start_time": "2024-12-13T00:10:02.210Z"
   },
   {
    "duration": 269,
    "start_time": "2024-12-13T00:11:07.902Z"
   },
   {
    "duration": 274,
    "start_time": "2024-12-13T00:11:13.769Z"
   },
   {
    "duration": 366,
    "start_time": "2024-12-13T00:11:54.557Z"
   },
   {
    "duration": 1361,
    "start_time": "2024-12-13T00:12:41.135Z"
   },
   {
    "duration": 433,
    "start_time": "2024-12-13T00:13:06.963Z"
   },
   {
    "duration": 310,
    "start_time": "2024-12-13T00:13:17.643Z"
   },
   {
    "duration": 432,
    "start_time": "2024-12-13T00:14:11.411Z"
   },
   {
    "duration": 58,
    "start_time": "2024-12-13T00:14:26.374Z"
   },
   {
    "duration": 42,
    "start_time": "2024-12-13T00:14:32.651Z"
   },
   {
    "duration": 838,
    "start_time": "2024-12-13T00:14:42.226Z"
   },
   {
    "duration": 421,
    "start_time": "2024-12-13T00:14:43.066Z"
   },
   {
    "duration": 89,
    "start_time": "2024-12-13T00:14:43.489Z"
   },
   {
    "duration": 3,
    "start_time": "2024-12-13T00:14:43.579Z"
   },
   {
    "duration": 388,
    "start_time": "2024-12-13T00:14:43.585Z"
   },
   {
    "duration": 4,
    "start_time": "2024-12-13T00:14:43.974Z"
   },
   {
    "duration": 35,
    "start_time": "2024-12-13T00:14:43.979Z"
   },
   {
    "duration": 27,
    "start_time": "2024-12-13T00:14:44.019Z"
   },
   {
    "duration": 3,
    "start_time": "2024-12-13T00:14:44.047Z"
   },
   {
    "duration": 35,
    "start_time": "2024-12-13T00:14:44.052Z"
   },
   {
    "duration": 4,
    "start_time": "2024-12-13T00:14:44.088Z"
   },
   {
    "duration": 25,
    "start_time": "2024-12-13T00:14:44.093Z"
   },
   {
    "duration": 19,
    "start_time": "2024-12-13T00:14:44.131Z"
   },
   {
    "duration": 3,
    "start_time": "2024-12-13T00:14:44.154Z"
   },
   {
    "duration": 4,
    "start_time": "2024-12-13T00:14:44.159Z"
   },
   {
    "duration": 5,
    "start_time": "2024-12-13T00:14:44.164Z"
   },
   {
    "duration": 5,
    "start_time": "2024-12-13T00:14:44.170Z"
   },
   {
    "duration": 580,
    "start_time": "2024-12-13T00:14:44.177Z"
   },
   {
    "duration": 5,
    "start_time": "2024-12-13T00:14:44.759Z"
   },
   {
    "duration": 311,
    "start_time": "2024-12-13T00:14:44.766Z"
   },
   {
    "duration": 113,
    "start_time": "2024-12-13T00:14:45.079Z"
   },
   {
    "duration": 4,
    "start_time": "2024-12-13T00:14:45.193Z"
   },
   {
    "duration": 325,
    "start_time": "2024-12-13T00:14:45.198Z"
   },
   {
    "duration": 14,
    "start_time": "2024-12-13T00:14:45.525Z"
   },
   {
    "duration": 11,
    "start_time": "2024-12-13T00:14:45.541Z"
   },
   {
    "duration": 423,
    "start_time": "2024-12-13T00:14:45.554Z"
   },
   {
    "duration": 1148,
    "start_time": "2024-12-13T00:14:45.979Z"
   },
   {
    "duration": 75,
    "start_time": "2024-12-13T00:14:47.129Z"
   },
   {
    "duration": 320,
    "start_time": "2024-12-13T00:14:47.207Z"
   },
   {
    "duration": 455,
    "start_time": "2024-12-13T00:14:47.529Z"
   },
   {
    "duration": 65,
    "start_time": "2024-12-13T00:14:47.987Z"
   },
   {
    "duration": 131,
    "start_time": "2024-12-13T00:14:48.054Z"
   },
   {
    "duration": 7,
    "start_time": "2024-12-13T00:14:48.187Z"
   },
   {
    "duration": 432,
    "start_time": "2024-12-13T00:14:48.196Z"
   },
   {
    "duration": 9,
    "start_time": "2024-12-13T00:14:48.636Z"
   },
   {
    "duration": 4,
    "start_time": "2024-12-13T00:14:48.647Z"
   },
   {
    "duration": 42,
    "start_time": "2024-12-13T00:14:48.652Z"
   },
   {
    "duration": 27,
    "start_time": "2024-12-13T00:14:48.696Z"
   },
   {
    "duration": 232,
    "start_time": "2024-12-13T00:14:48.724Z"
   },
   {
    "duration": 316,
    "start_time": "2024-12-13T00:14:48.959Z"
   },
   {
    "duration": 565,
    "start_time": "2024-12-13T00:14:49.280Z"
   },
   {
    "duration": 184,
    "start_time": "2024-12-13T00:14:49.847Z"
   },
   {
    "duration": 10238,
    "start_time": "2024-12-13T00:14:50.033Z"
   },
   {
    "duration": 34510,
    "start_time": "2024-12-13T00:15:00.272Z"
   },
   {
    "duration": 10606,
    "start_time": "2024-12-13T00:15:34.784Z"
   },
   {
    "duration": 36459,
    "start_time": "2024-12-13T00:15:45.391Z"
   },
   {
    "duration": 695,
    "start_time": "2024-12-13T00:16:21.853Z"
   },
   {
    "duration": 901,
    "start_time": "2024-12-13T00:16:35.539Z"
   },
   {
    "duration": 408,
    "start_time": "2024-12-13T00:16:36.443Z"
   },
   {
    "duration": 84,
    "start_time": "2024-12-13T00:16:36.854Z"
   },
   {
    "duration": 3,
    "start_time": "2024-12-13T00:16:36.940Z"
   },
   {
    "duration": 409,
    "start_time": "2024-12-13T00:16:36.946Z"
   },
   {
    "duration": 4,
    "start_time": "2024-12-13T00:16:37.356Z"
   },
   {
    "duration": 23,
    "start_time": "2024-12-13T00:16:37.362Z"
   },
   {
    "duration": 29,
    "start_time": "2024-12-13T00:16:37.387Z"
   },
   {
    "duration": 17,
    "start_time": "2024-12-13T00:16:37.418Z"
   },
   {
    "duration": 35,
    "start_time": "2024-12-13T00:16:37.444Z"
   },
   {
    "duration": 3,
    "start_time": "2024-12-13T00:16:37.481Z"
   },
   {
    "duration": 5,
    "start_time": "2024-12-13T00:16:37.486Z"
   },
   {
    "duration": 31,
    "start_time": "2024-12-13T00:16:37.492Z"
   },
   {
    "duration": 12,
    "start_time": "2024-12-13T00:16:37.527Z"
   },
   {
    "duration": 4,
    "start_time": "2024-12-13T00:16:37.541Z"
   },
   {
    "duration": 7,
    "start_time": "2024-12-13T00:16:37.547Z"
   },
   {
    "duration": 4,
    "start_time": "2024-12-13T00:16:37.556Z"
   },
   {
    "duration": 539,
    "start_time": "2024-12-13T00:16:37.563Z"
   },
   {
    "duration": 5,
    "start_time": "2024-12-13T00:16:38.104Z"
   },
   {
    "duration": 273,
    "start_time": "2024-12-13T00:16:38.110Z"
   },
   {
    "duration": 113,
    "start_time": "2024-12-13T00:16:38.385Z"
   },
   {
    "duration": 3,
    "start_time": "2024-12-13T00:16:38.500Z"
   },
   {
    "duration": 320,
    "start_time": "2024-12-13T00:16:38.511Z"
   },
   {
    "duration": 13,
    "start_time": "2024-12-13T00:16:38.832Z"
   },
   {
    "duration": 8,
    "start_time": "2024-12-13T00:16:38.846Z"
   },
   {
    "duration": 438,
    "start_time": "2024-12-13T00:16:38.856Z"
   },
   {
    "duration": 1093,
    "start_time": "2024-12-13T00:16:39.297Z"
   },
   {
    "duration": 90,
    "start_time": "2024-12-13T00:16:40.392Z"
   },
   {
    "duration": 307,
    "start_time": "2024-12-13T00:16:40.484Z"
   },
   {
    "duration": 464,
    "start_time": "2024-12-13T00:16:40.793Z"
   },
   {
    "duration": 37,
    "start_time": "2024-12-13T00:16:41.259Z"
   },
   {
    "duration": 142,
    "start_time": "2024-12-13T00:16:41.298Z"
   },
   {
    "duration": 8,
    "start_time": "2024-12-13T00:16:41.442Z"
   },
   {
    "duration": 403,
    "start_time": "2024-12-13T00:16:41.452Z"
   },
   {
    "duration": 10055,
    "start_time": "2024-12-13T00:16:41.857Z"
   },
   {
    "duration": 9,
    "start_time": "2024-12-13T00:16:51.914Z"
   },
   {
    "duration": 3,
    "start_time": "2024-12-13T00:16:51.925Z"
   },
   {
    "duration": 45,
    "start_time": "2024-12-13T00:16:51.930Z"
   },
   {
    "duration": 47,
    "start_time": "2024-12-13T00:16:51.977Z"
   },
   {
    "duration": 228,
    "start_time": "2024-12-13T00:16:52.026Z"
   },
   {
    "duration": 329,
    "start_time": "2024-12-13T00:16:52.258Z"
   },
   {
    "duration": 541,
    "start_time": "2024-12-13T00:16:52.588Z"
   },
   {
    "duration": 215,
    "start_time": "2024-12-13T00:16:53.132Z"
   },
   {
    "duration": 10027,
    "start_time": "2024-12-13T00:16:53.349Z"
   },
   {
    "duration": 34026,
    "start_time": "2024-12-13T00:17:03.378Z"
   },
   {
    "duration": 10564,
    "start_time": "2024-12-13T00:17:37.406Z"
   },
   {
    "duration": 35167,
    "start_time": "2024-12-13T00:17:47.972Z"
   },
   {
    "duration": 850,
    "start_time": "2024-12-13T00:19:07.903Z"
   },
   {
    "duration": 433,
    "start_time": "2024-12-13T00:19:08.755Z"
   },
   {
    "duration": 89,
    "start_time": "2024-12-13T00:19:09.189Z"
   },
   {
    "duration": 5,
    "start_time": "2024-12-13T00:19:09.280Z"
   },
   {
    "duration": 384,
    "start_time": "2024-12-13T00:19:09.286Z"
   },
   {
    "duration": 4,
    "start_time": "2024-12-13T00:19:09.671Z"
   },
   {
    "duration": 37,
    "start_time": "2024-12-13T00:19:09.676Z"
   },
   {
    "duration": 24,
    "start_time": "2024-12-13T00:19:09.732Z"
   },
   {
    "duration": 3,
    "start_time": "2024-12-13T00:19:09.758Z"
   },
   {
    "duration": 35,
    "start_time": "2024-12-13T00:19:09.765Z"
   },
   {
    "duration": 3,
    "start_time": "2024-12-13T00:19:09.801Z"
   },
   {
    "duration": 6,
    "start_time": "2024-12-13T00:19:09.816Z"
   },
   {
    "duration": 32,
    "start_time": "2024-12-13T00:19:09.828Z"
   },
   {
    "duration": 3,
    "start_time": "2024-12-13T00:19:09.862Z"
   },
   {
    "duration": 4,
    "start_time": "2024-12-13T00:19:09.867Z"
   },
   {
    "duration": 4,
    "start_time": "2024-12-13T00:19:09.873Z"
   },
   {
    "duration": 4,
    "start_time": "2024-12-13T00:19:09.879Z"
   },
   {
    "duration": 563,
    "start_time": "2024-12-13T00:19:09.885Z"
   },
   {
    "duration": 5,
    "start_time": "2024-12-13T00:19:10.450Z"
   },
   {
    "duration": 238,
    "start_time": "2024-12-13T00:19:10.457Z"
   },
   {
    "duration": 142,
    "start_time": "2024-12-13T00:19:10.697Z"
   },
   {
    "duration": 5,
    "start_time": "2024-12-13T00:19:10.840Z"
   },
   {
    "duration": 282,
    "start_time": "2024-12-13T00:19:10.847Z"
   },
   {
    "duration": 11,
    "start_time": "2024-12-13T00:19:11.139Z"
   },
   {
    "duration": 9,
    "start_time": "2024-12-13T00:19:11.152Z"
   },
   {
    "duration": 432,
    "start_time": "2024-12-13T00:19:11.163Z"
   },
   {
    "duration": 1097,
    "start_time": "2024-12-13T00:19:11.597Z"
   },
   {
    "duration": 87,
    "start_time": "2024-12-13T00:19:12.698Z"
   },
   {
    "duration": 309,
    "start_time": "2024-12-13T00:19:12.787Z"
   },
   {
    "duration": 483,
    "start_time": "2024-12-13T00:19:13.098Z"
   },
   {
    "duration": 60,
    "start_time": "2024-12-13T00:19:13.583Z"
   },
   {
    "duration": 119,
    "start_time": "2024-12-13T00:19:13.645Z"
   },
   {
    "duration": 7,
    "start_time": "2024-12-13T00:19:13.766Z"
   },
   {
    "duration": 412,
    "start_time": "2024-12-13T00:19:13.775Z"
   },
   {
    "duration": 6,
    "start_time": "2024-12-13T00:19:14.188Z"
   },
   {
    "duration": 292,
    "start_time": "2024-12-13T00:19:14.196Z"
   },
   {
    "duration": 3,
    "start_time": "2024-12-13T00:19:14.490Z"
   },
   {
    "duration": 60,
    "start_time": "2024-12-13T00:19:14.495Z"
   },
   {
    "duration": 11,
    "start_time": "2024-12-13T00:19:14.557Z"
   },
   {
    "duration": 240,
    "start_time": "2024-12-13T00:19:14.569Z"
   },
   {
    "duration": 359,
    "start_time": "2024-12-13T00:19:14.811Z"
   },
   {
    "duration": 556,
    "start_time": "2024-12-13T00:19:15.171Z"
   },
   {
    "duration": 202,
    "start_time": "2024-12-13T00:19:15.729Z"
   },
   {
    "duration": 10453,
    "start_time": "2024-12-13T00:19:15.933Z"
   },
   {
    "duration": 35637,
    "start_time": "2024-12-13T00:19:26.389Z"
   },
   {
    "duration": 11855,
    "start_time": "2024-12-13T00:20:02.031Z"
   },
   {
    "duration": 37382,
    "start_time": "2024-12-13T00:20:13.888Z"
   },
   {
    "duration": 294,
    "start_time": "2024-12-13T00:20:51.273Z"
   },
   {
    "duration": 225,
    "start_time": "2024-12-13T00:21:55.468Z"
   },
   {
    "duration": 879,
    "start_time": "2024-12-13T20:20:37.527Z"
   },
   {
    "duration": 427,
    "start_time": "2024-12-13T20:20:38.408Z"
   },
   {
    "duration": 74,
    "start_time": "2024-12-13T20:20:38.837Z"
   },
   {
    "duration": 3,
    "start_time": "2024-12-13T20:20:38.913Z"
   },
   {
    "duration": 330,
    "start_time": "2024-12-13T20:20:38.920Z"
   },
   {
    "duration": 4,
    "start_time": "2024-12-13T20:20:39.251Z"
   },
   {
    "duration": 24,
    "start_time": "2024-12-13T20:20:39.256Z"
   },
   {
    "duration": 39,
    "start_time": "2024-12-13T20:20:39.282Z"
   },
   {
    "duration": 4,
    "start_time": "2024-12-13T20:20:39.322Z"
   },
   {
    "duration": 35,
    "start_time": "2024-12-13T20:20:39.328Z"
   },
   {
    "duration": 3,
    "start_time": "2024-12-13T20:20:39.365Z"
   },
   {
    "duration": 5,
    "start_time": "2024-12-13T20:20:39.370Z"
   },
   {
    "duration": 46,
    "start_time": "2024-12-13T20:20:39.377Z"
   },
   {
    "duration": 4,
    "start_time": "2024-12-13T20:20:39.427Z"
   },
   {
    "duration": 5,
    "start_time": "2024-12-13T20:20:39.432Z"
   },
   {
    "duration": 5,
    "start_time": "2024-12-13T20:20:39.438Z"
   },
   {
    "duration": 5,
    "start_time": "2024-12-13T20:20:39.444Z"
   },
   {
    "duration": 510,
    "start_time": "2024-12-13T20:20:39.451Z"
   },
   {
    "duration": 6,
    "start_time": "2024-12-13T20:20:39.963Z"
   },
   {
    "duration": 288,
    "start_time": "2024-12-13T20:20:39.971Z"
   },
   {
    "duration": 95,
    "start_time": "2024-12-13T20:20:40.261Z"
   },
   {
    "duration": 3,
    "start_time": "2024-12-13T20:20:40.358Z"
   },
   {
    "duration": 295,
    "start_time": "2024-12-13T20:20:40.363Z"
   },
   {
    "duration": 7,
    "start_time": "2024-12-13T20:20:40.660Z"
   },
   {
    "duration": 10,
    "start_time": "2024-12-13T20:20:40.669Z"
   },
   {
    "duration": 403,
    "start_time": "2024-12-13T20:20:40.681Z"
   },
   {
    "duration": 1054,
    "start_time": "2024-12-13T20:20:41.086Z"
   },
   {
    "duration": 90,
    "start_time": "2024-12-13T20:20:42.141Z"
   },
   {
    "duration": 288,
    "start_time": "2024-12-13T20:20:42.233Z"
   },
   {
    "duration": 437,
    "start_time": "2024-12-13T20:20:42.523Z"
   },
   {
    "duration": 49,
    "start_time": "2024-12-13T20:20:42.962Z"
   },
   {
    "duration": 126,
    "start_time": "2024-12-13T20:20:43.014Z"
   },
   {
    "duration": 8,
    "start_time": "2024-12-13T20:20:43.142Z"
   },
   {
    "duration": 389,
    "start_time": "2024-12-13T20:20:43.151Z"
   },
   {
    "duration": 7,
    "start_time": "2024-12-13T20:20:43.541Z"
   },
   {
    "duration": 281,
    "start_time": "2024-12-13T20:20:43.549Z"
   },
   {
    "duration": 3,
    "start_time": "2024-12-13T20:20:43.832Z"
   },
   {
    "duration": 37,
    "start_time": "2024-12-13T20:20:43.837Z"
   },
   {
    "duration": 11,
    "start_time": "2024-12-13T20:20:43.877Z"
   },
   {
    "duration": 224,
    "start_time": "2024-12-13T20:20:43.890Z"
   },
   {
    "duration": 254,
    "start_time": "2024-12-13T20:20:44.120Z"
   },
   {
    "duration": 341,
    "start_time": "2024-12-13T20:20:44.376Z"
   },
   {
    "duration": 261,
    "start_time": "2024-12-13T20:20:44.719Z"
   },
   {
    "duration": 554,
    "start_time": "2024-12-13T20:20:44.981Z"
   },
   {
    "duration": 165,
    "start_time": "2024-12-13T20:20:45.537Z"
   },
   {
    "duration": 8743,
    "start_time": "2024-12-13T20:20:45.705Z"
   },
   {
    "duration": 29362,
    "start_time": "2024-12-13T20:20:54.450Z"
   },
   {
    "duration": 9067,
    "start_time": "2024-12-13T20:21:23.814Z"
   },
   {
    "duration": 30217,
    "start_time": "2024-12-13T20:21:32.883Z"
   },
   {
    "duration": 2538,
    "start_time": "2024-12-18T22:59:50.920Z"
   },
   {
    "duration": 430,
    "start_time": "2024-12-18T22:59:53.459Z"
   },
   {
    "duration": 75,
    "start_time": "2024-12-18T22:59:53.891Z"
   },
   {
    "duration": 3,
    "start_time": "2024-12-18T22:59:53.969Z"
   },
   {
    "duration": 313,
    "start_time": "2024-12-18T22:59:53.974Z"
   },
   {
    "duration": 4,
    "start_time": "2024-12-18T22:59:54.289Z"
   },
   {
    "duration": 23,
    "start_time": "2024-12-18T22:59:54.311Z"
   },
   {
    "duration": 20,
    "start_time": "2024-12-18T22:59:54.336Z"
   },
   {
    "duration": 3,
    "start_time": "2024-12-18T22:59:54.358Z"
   },
   {
    "duration": 54,
    "start_time": "2024-12-18T22:59:54.365Z"
   },
   {
    "duration": 3,
    "start_time": "2024-12-18T22:59:54.421Z"
   },
   {
    "duration": 6,
    "start_time": "2024-12-18T22:59:54.426Z"
   },
   {
    "duration": 15,
    "start_time": "2024-12-18T22:59:54.433Z"
   },
   {
    "duration": 3,
    "start_time": "2024-12-18T22:59:54.449Z"
   },
   {
    "duration": 4,
    "start_time": "2024-12-18T22:59:54.454Z"
   },
   {
    "duration": 4,
    "start_time": "2024-12-18T22:59:54.459Z"
   },
   {
    "duration": 5,
    "start_time": "2024-12-18T22:59:54.465Z"
   },
   {
    "duration": 499,
    "start_time": "2024-12-18T22:59:54.471Z"
   },
   {
    "duration": 5,
    "start_time": "2024-12-18T22:59:54.971Z"
   },
   {
    "duration": 4,
    "start_time": "2024-12-18T22:59:54.978Z"
   },
   {
    "duration": 1181,
    "start_time": "2024-12-18T22:59:54.983Z"
   },
   {
    "duration": 89,
    "start_time": "2024-12-18T22:59:56.166Z"
   },
   {
    "duration": 4,
    "start_time": "2024-12-18T22:59:56.256Z"
   },
   {
    "duration": 328,
    "start_time": "2024-12-18T22:59:56.261Z"
   },
   {
    "duration": 7,
    "start_time": "2024-12-18T22:59:56.591Z"
   },
   {
    "duration": 19,
    "start_time": "2024-12-18T22:59:56.600Z"
   },
   {
    "duration": 363,
    "start_time": "2024-12-18T22:59:56.621Z"
   },
   {
    "duration": 853,
    "start_time": "2024-12-18T22:59:56.989Z"
   },
   {
    "duration": 78,
    "start_time": "2024-12-18T22:59:57.844Z"
   },
   {
    "duration": 268,
    "start_time": "2024-12-18T22:59:57.924Z"
   },
   {
    "duration": 362,
    "start_time": "2024-12-18T22:59:58.194Z"
   },
   {
    "duration": 37,
    "start_time": "2024-12-18T22:59:58.558Z"
   },
   {
    "duration": 120,
    "start_time": "2024-12-18T22:59:58.596Z"
   },
   {
    "duration": 7,
    "start_time": "2024-12-18T22:59:58.718Z"
   },
   {
    "duration": 348,
    "start_time": "2024-12-18T22:59:58.727Z"
   },
   {
    "duration": 5,
    "start_time": "2024-12-18T22:59:59.077Z"
   },
   {
    "duration": 296,
    "start_time": "2024-12-18T22:59:59.084Z"
   },
   {
    "duration": 4,
    "start_time": "2024-12-18T22:59:59.381Z"
   },
   {
    "duration": 51,
    "start_time": "2024-12-18T22:59:59.387Z"
   },
   {
    "duration": 17,
    "start_time": "2024-12-18T22:59:59.439Z"
   },
   {
    "duration": 191,
    "start_time": "2024-12-18T22:59:59.457Z"
   },
   {
    "duration": 228,
    "start_time": "2024-12-18T22:59:59.650Z"
   },
   {
    "duration": 301,
    "start_time": "2024-12-18T22:59:59.881Z"
   },
   {
    "duration": 248,
    "start_time": "2024-12-18T23:00:00.184Z"
   },
   {
    "duration": 450,
    "start_time": "2024-12-18T23:00:00.434Z"
   },
   {
    "duration": 158,
    "start_time": "2024-12-18T23:00:00.886Z"
   },
   {
    "duration": 597,
    "start_time": "2024-12-18T23:17:21.668Z"
   },
   {
    "duration": 673,
    "start_time": "2024-12-18T23:23:18.838Z"
   },
   {
    "duration": 322,
    "start_time": "2024-12-18T23:24:07.455Z"
   },
   {
    "duration": 808,
    "start_time": "2024-12-18T23:28:42.157Z"
   },
   {
    "duration": 18,
    "start_time": "2024-12-18T23:35:27.046Z"
   },
   {
    "duration": 21,
    "start_time": "2024-12-18T23:36:36.828Z"
   },
   {
    "duration": 796,
    "start_time": "2024-12-18T23:36:55.443Z"
   },
   {
    "duration": 796,
    "start_time": "2024-12-24T17:08:32.050Z"
   }
  ],
  "kernelspec": {
   "display_name": "Python 3 (ipykernel)",
   "language": "python",
   "name": "python3"
  },
  "language_info": {
   "codemirror_mode": {
    "name": "ipython",
    "version": 3
   },
   "file_extension": ".py",
   "mimetype": "text/x-python",
   "name": "python",
   "nbconvert_exporter": "python",
   "pygments_lexer": "ipython3",
   "version": "3.9.19"
  },
  "toc": {
   "base_numbering": 1,
   "nav_menu": {},
   "number_sections": true,
   "sideBar": true,
   "skip_h1_title": true,
   "title_cell": "Table of Contents",
   "title_sidebar": "Contents",
   "toc_cell": false,
   "toc_position": {},
   "toc_section_display": true,
   "toc_window_display": false
  }
 },
 "nbformat": 4,
 "nbformat_minor": 2
}
